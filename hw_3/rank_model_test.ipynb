{
 "cells": [
  {
   "cell_type": "code",
   "execution_count": 1,
   "metadata": {},
   "outputs": [
    {
     "name": "stderr",
     "output_type": "stream",
     "text": [
      "/usr/lib/python3/dist-packages/requests/__init__.py:80: RequestsDependencyWarning: urllib3 (1.25.6) or chardet (3.0.4) doesn't match a supported version!\n",
      "  RequestsDependencyWarning)\n"
     ]
    }
   ],
   "source": [
    "%config IPCompleter.greedy=True\n",
    "import re\n",
    "import json\n",
    "from collections import defaultdict\n",
    "from tqdm import tqdm_notebook as tqdm\n",
    "from elasticsearch import Elasticsearch\n",
    "from elasticsearch.helpers import parallel_bulk\n",
    "from sklearn.feature_extraction.text import CountVectorizer\n",
    "import requests\n",
    "from time import time\n",
    "import time\n",
    "\n",
    "import base64\n",
    "import xmltodict"
   ]
  },
  {
   "cell_type": "code",
   "execution_count": 2,
   "metadata": {},
   "outputs": [],
   "source": [
    "es = Elasticsearch([{'host': 'localhost', 'port': 9200, 'timeout': 360, 'maxsize': 25}])"
   ]
  },
  {
   "cell_type": "code",
   "execution_count": 3,
   "metadata": {},
   "outputs": [
    {
     "data": {
      "text/plain": [
       "{'acknowledged': True, 'index': 'myandex', 'shards_acknowledged': True}"
      ]
     },
     "execution_count": 3,
     "metadata": {},
     "output_type": "execute_result"
    }
   ],
   "source": [
    "documents_by_id = {}\n",
    "es.indices.delete(index='myandex')\n",
    "es.indices.create(index='myandex')"
   ]
  },
  {
   "cell_type": "code",
   "execution_count": 4,
   "metadata": {},
   "outputs": [],
   "source": [
    "def processFile(i):\n",
    "    prefix = '../byweb_for_course/byweb.'\n",
    "    suffix = '.xml'\n",
    "    filename = prefix + str(i) + suffix\n",
    "    with open(filename, 'rb') as f:\n",
    "        decoded = f.read().decode('cp1251')\n",
    "        xmldict = xmltodict.parse(decoded)\n",
    "        for doc in tqdm(xmldict['romip:dataset']['document']):\n",
    "            try:\n",
    "                docID = doc['docID']\n",
    "                documents_by_id[docID] = {}\n",
    "                url = base64.b64decode(doc['docURL']).decode('cp1251')\n",
    "                content = base64.b64decode(doc['content']['#text']).decode('cp1251')\n",
    "                documents_by_id[docID]['url'] = url\n",
    "                documents_by_id[docID]['content'] = content\n",
    "            except Exception as e:\n",
    "                print(e)"
   ]
  },
  {
   "cell_type": "code",
   "execution_count": 5,
   "metadata": {},
   "outputs": [
    {
     "data": {
      "application/vnd.jupyter.widget-view+json": {
       "model_id": "e8284b1eff29438e9ba9020c4df8dbec"
      }
     },
     "metadata": {},
     "output_type": "display_data"
    },
    {
     "name": "stdout",
     "output_type": "stream",
     "text": [
      "\n"
     ]
    },
    {
     "data": {
      "application/vnd.jupyter.widget-view+json": {
       "model_id": "8c49cb0497a04d29a198c528c3f18298"
      }
     },
     "metadata": {},
     "output_type": "display_data"
    },
    {
     "name": "stdout",
     "output_type": "stream",
     "text": [
      "\n"
     ]
    },
    {
     "data": {
      "application/vnd.jupyter.widget-view+json": {
       "model_id": "a605b8e0741448948ba7412e2a0b9f74"
      }
     },
     "metadata": {},
     "output_type": "display_data"
    },
    {
     "name": "stdout",
     "output_type": "stream",
     "text": [
      "\n"
     ]
    },
    {
     "data": {
      "application/vnd.jupyter.widget-view+json": {
       "model_id": "cf00c7e70a9a4df4bb6c694805790984"
      }
     },
     "metadata": {},
     "output_type": "display_data"
    },
    {
     "name": "stdout",
     "output_type": "stream",
     "text": [
      "\n"
     ]
    },
    {
     "data": {
      "application/vnd.jupyter.widget-view+json": {
       "model_id": "b4787817f017494daaa5c34d4b9aef07"
      }
     },
     "metadata": {},
     "output_type": "display_data"
    },
    {
     "name": "stdout",
     "output_type": "stream",
     "text": [
      "\n"
     ]
    },
    {
     "data": {
      "application/vnd.jupyter.widget-view+json": {
       "model_id": "3ab7af0e19074c558d967983357d5f0b"
      }
     },
     "metadata": {},
     "output_type": "display_data"
    },
    {
     "name": "stdout",
     "output_type": "stream",
     "text": [
      "\n"
     ]
    },
    {
     "data": {
      "application/vnd.jupyter.widget-view+json": {
       "model_id": "642afba40a0f4e839ed973cd40cf73e5"
      }
     },
     "metadata": {},
     "output_type": "display_data"
    },
    {
     "name": "stdout",
     "output_type": "stream",
     "text": [
      "\n"
     ]
    },
    {
     "data": {
      "application/vnd.jupyter.widget-view+json": {
       "model_id": "4193fdc9873b4885a8f9377352ed5a8d"
      }
     },
     "metadata": {},
     "output_type": "display_data"
    },
    {
     "name": "stdout",
     "output_type": "stream",
     "text": [
      "\n"
     ]
    },
    {
     "data": {
      "application/vnd.jupyter.widget-view+json": {
       "model_id": "0db7107dc37b41fd80195ebda9bc5bb2"
      }
     },
     "metadata": {},
     "output_type": "display_data"
    },
    {
     "name": "stdout",
     "output_type": "stream",
     "text": [
      "\n"
     ]
    },
    {
     "data": {
      "application/vnd.jupyter.widget-view+json": {
       "model_id": "e4007e2521e34f9ead76735a2e601400"
      }
     },
     "metadata": {},
     "output_type": "display_data"
    },
    {
     "name": "stdout",
     "output_type": "stream",
     "text": [
      "\n"
     ]
    }
   ],
   "source": [
    "for i in range(10): # FIX\n",
    "    processFile(i)"
   ]
  },
  {
   "cell_type": "code",
   "execution_count": 6,
   "metadata": {},
   "outputs": [],
   "source": [
    "settings_final = {\n",
    "    'mappings': {\n",
    "        'properties': {\n",
    "            'url': {\n",
    "                'type': 'text'\n",
    "            },\n",
    "            'content': {\n",
    "                'type': 'text',\n",
    "                \"analyzer\": \"my_custom_analyzer\"\n",
    "            }\n",
    "        }\n",
    "    },\n",
    "    \"settings\": {\n",
    "    \"analysis\": {\n",
    "      \"analyzer\": {\n",
    "        \"my_custom_analyzer\": {\n",
    "          \"type\":      \"custom\", \n",
    "          \"tokenizer\": \"standard\",\n",
    "          \"char_filter\": [\n",
    "            \"html_strip\",\n",
    "            \"yont\"\n",
    "          ],\n",
    "          \"filter\": [\n",
    "            \"lowercase\",\n",
    "            #\"asciifolding\",\n",
    "            \"russian_snow\",\n",
    "            \"english_snow\"\n",
    "          ]\n",
    "        }\n",
    "      },\n",
    "        'char_filter': {\n",
    "                'yont': {\n",
    "                    'type': 'mapping',\n",
    "                    'mappings': [\n",
    "                        'ё => е',\n",
    "                        'Ё => Е'\n",
    "                    ]\n",
    "                }\n",
    "            },\n",
    "    'filter': {\n",
    "            'stop_words': {\n",
    "                'type': 'stop',\n",
    "                'stopwords': [\n",
    "                ]\n",
    "            },\n",
    "            'russian_snow': {\n",
    "                'type': 'snowball',\n",
    "                'language': 'russian'\n",
    "            },\n",
    "            'english_snow': {\n",
    "                'type': 'snowball',\n",
    "                'language': 'english'\n",
    "            }\n",
    "     }\n",
    "    }\n",
    "  }\n",
    "}"
   ]
  },
  {
   "cell_type": "code",
   "execution_count": 7,
   "metadata": {},
   "outputs": [],
   "source": [
    "def recreate_index():\n",
    "    es.indices.delete(index='myandex')\n",
    "    es.indices.create(index='myandex', body=settings_final)"
   ]
  },
  {
   "cell_type": "code",
   "execution_count": 8,
   "metadata": {},
   "outputs": [],
   "source": [
    "recreate_index()"
   ]
  },
  {
   "cell_type": "code",
   "execution_count": 9,
   "metadata": {},
   "outputs": [],
   "source": [
    "def check_analyzer(analyzer, text):\n",
    "    body = analyzer\n",
    "    body['text'] = text\n",
    "    \n",
    "    tokens = es.indices.analyze(index='myandex', body=body)['tokens']\n",
    "    tokens = [token_info['token'] for token_info in tokens]\n",
    "    return tokens"
   ]
  },
  {
   "cell_type": "code",
   "execution_count": 10,
   "metadata": {},
   "outputs": [
    {
     "data": {
      "text/plain": [
       "['bla', 'bla', 'русск', 'countabl', 'текст', 'ешкин', 'кот']"
      ]
     },
     "execution_count": 10,
     "metadata": {},
     "output_type": "execute_result"
    }
   ],
   "source": [
    "analyzer = {\n",
    "    'analyzer': 'my_custom_analyzer'\n",
    "}\n",
    "\n",
    "check_analyzer(analyzer, '<meta http-equiv=\"Content-Type\" content=\"text/html; charset=windows-1251\"> bla bla русский countable текст Ёшкин кот')"
   ]
  },
  {
   "cell_type": "code",
   "execution_count": 11,
   "metadata": {},
   "outputs": [],
   "source": [
    "def create_es_action(index, doc_id, document):\n",
    "    return {\n",
    "        '_index': index,\n",
    "        '_id': doc_id,\n",
    "        '_source': document\n",
    "    }"
   ]
  },
  {
   "cell_type": "code",
   "execution_count": 12,
   "metadata": {},
   "outputs": [],
   "source": [
    "def es_actions_generator():\n",
    "    for doc_id, doc in tqdm(documents_by_id.items()):\n",
    "        yield create_es_action('myandex', doc_id, doc)"
   ]
  },
  {
   "cell_type": "code",
   "execution_count": 13,
   "metadata": {},
   "outputs": [
    {
     "data": {
      "application/vnd.jupyter.widget-view+json": {
       "model_id": "d8d35d3880fa4789a884892cc9499e66"
      }
     },
     "metadata": {},
     "output_type": "display_data"
    },
    {
     "name": "stdout",
     "output_type": "stream",
     "text": [
      "\n",
      "Time on index creation: 00:03:42.12\n",
      "In seconds: 222.07226753234863\n"
     ]
    }
   ],
   "source": [
    "start = time.time()\n",
    "for ok, result in parallel_bulk(es, es_actions_generator(), queue_size=4, thread_count=4, chunk_size=1000):\n",
    "    if not ok:\n",
    "        print(result)\n",
    "end = time.time()\n",
    "print(f\"Time on index creation: {time.strftime('%H:%M:%S.%l', time.gmtime(end - start))}\")\n",
    "print(f\"In seconds: {end - start}\")"
   ]
  },
  {
   "cell_type": "code",
   "execution_count": 14,
   "metadata": {},
   "outputs": [],
   "source": [
    "def search(query, *args):\n",
    "    pretty_print_result(es.search(index='myandex', body=query, size=100), args)\n",
    "    # note that size set to 20 just because default value is 10 and we know that we have 12 docs and 10 < 12 < 20\n",
    "\n",
    "def raw_search(query):\n",
    "    search_result = es.search(index='myandex', body=query, size=1000)['hits']\n",
    "    return {hit['_id']: hit['_score'] for hit in search_result['hits']}\n",
    "    \n",
    "def pretty_print_result(search_result, fields=[]):\n",
    "    # fields is a list of fields names which we want to be printed\n",
    "    res = search_result['hits']\n",
    "    print(f'Total documents: {res[\"total\"][\"value\"]}')\n",
    "    for hit in res['hits'][:6]:\n",
    "        print(f'Doc {hit[\"_id\"]}, score is {hit[\"_score\"]}')\n",
    "        for field in fields:\n",
    "            print(f'{field}: {hit[\"_source\"][field]}')\n",
    "                  \n",
    "def get_doc_by_id(doc_id):\n",
    "    return es.get(index='myandex', id=doc_id)['_source']"
   ]
  },
  {
   "cell_type": "code",
   "execution_count": 15,
   "metadata": {},
   "outputs": [
    {
     "name": "stdout",
     "output_type": "stream",
     "text": [
      "Total documents: 0\n"
     ]
    },
    {
     "data": {
      "text/plain": [
       "{}"
      ]
     },
     "execution_count": 15,
     "metadata": {},
     "output_type": "execute_result"
    }
   ],
   "source": [
    "def get_query(query):\n",
    "    return {\n",
    "    'query': {\n",
    "        'bool': {\n",
    "            'should': {\n",
    "                'match': {\n",
    "                    'content': query\n",
    "                }\n",
    "            }\n",
    "        }\n",
    "    }\n",
    "    }\n",
    "\n",
    "q = get_query('<meta http-equiv=\"Content-Type\" content=\"text/html; charset=windows-1251\">')\n",
    "search(q)\n",
    "raw_search(q)"
   ]
  },
  {
   "cell_type": "code",
   "execution_count": 16,
   "metadata": {},
   "outputs": [],
   "source": [
    "def load_queries_and_relevance():\n",
    "    relevance = defaultdict(dict)\n",
    "    filename = '../relevant_table_2009.xml'\n",
    "    with open(filename, 'rb') as f:\n",
    "        xmldict = xmltodict.parse(f.read())\n",
    "        for task in tqdm(xmldict['taskDocumentMatrix']['task']):\n",
    "            task_rel = {}\n",
    "            has_vital = False\n",
    "            for doc in task['document']:\n",
    "                if doc['@relevance'] == 'vital':\n",
    "                    has_vital = True\n",
    "                task_rel[doc['@id']] = doc['@relevance']\n",
    "            if has_vital:\n",
    "                relevance[task['@id']] = task_rel\n",
    "    filename = '../web2008_adhoc.xml'\n",
    "    with open(filename, 'rb') as f:\n",
    "        xmldict = xmltodict.parse(f.read())\n",
    "        for task in tqdm(xmldict['task-set']['task']):\n",
    "            if task['@id'] in relevance:\n",
    "                relevance[task['@id']]['querytext'] = task['querytext']\n",
    "    return relevance"
   ]
  },
  {
   "cell_type": "code",
   "execution_count": 17,
   "metadata": {},
   "outputs": [
    {
     "data": {
      "application/vnd.jupyter.widget-view+json": {
       "model_id": "1d9da2afa4f945238093fe34f31ada0a"
      }
     },
     "metadata": {},
     "output_type": "display_data"
    },
    {
     "name": "stdout",
     "output_type": "stream",
     "text": [
      "\n"
     ]
    },
    {
     "data": {
      "application/vnd.jupyter.widget-view+json": {
       "model_id": "e349147313384c7db11c85677889f585"
      }
     },
     "metadata": {},
     "output_type": "display_data"
    },
    {
     "name": "stdout",
     "output_type": "stream",
     "text": [
      "\n"
     ]
    }
   ],
   "source": [
    "relevance = load_queries_and_relevance()"
   ]
  },
  {
   "cell_type": "code",
   "execution_count": 21,
   "metadata": {},
   "outputs": [],
   "source": [
    "import numpy as np\n",
    "\n",
    "\n",
    "def get_number_of_correct_out_of_k(results, task_relevance, k):\n",
    "    return sum([1 if res[0] in task_relevance and task_relevance[res[0]] == 'vital' else 0 for res in results[:k]])\n",
    "\n",
    "def measure_performance():    \n",
    "    Q = len(relevance)\n",
    "    mrr = 0\n",
    "    ndcg_mean = 0\n",
    "    for task in relevance.keys():\n",
    "        task_relevance = relevance[task]\n",
    "        results = raw_search(get_query(task_relevance['querytext']))\n",
    "        idx = get_rank_indicies(results)\n",
    "        results = results[idx]\n",
    "        reciprocal_rank = 0\n",
    "        ndcg = 0\n",
    "        for i, res in enumerate(results):\n",
    "            rel_i = 0\n",
    "            if res[0] in task_relevance and task_relevance[res[0]] == 'vital':\n",
    "                reciprocal_rank = 1 / (i + 1)\n",
    "                rel_i = 1\n",
    "            ndcg += rel_i / (np.log2(i + 2))\n",
    "        normalizer = 0\n",
    "        for i in range(get_number_of_correct_out_of_k(results, task_relevance, 100)):\n",
    "            normalizer += 1 / (np.log2(i + 2))\n",
    "        ndcg_mean += ndcg / normalizer if normalizer != 0 else 0\n",
    "        mrr += reciprocal_rank\n",
    "    print(f\"ndcg@100: {mrr / Q}\")\n",
    "    print(f\"mrr@100: {ndcg_mean / Q}\")"
   ]
  },
  {
   "cell_type": "code",
   "execution_count": 33,
   "metadata": {},
   "outputs": [],
   "source": [
    "import pickle\n",
    "\n",
    "def get_all_queries():\n",
    "    queries_filename = \"./web2008_adhoc.xml\"\n",
    "    all_queries = defaultdict(tuple)\n",
    "\n",
    "    with open(queries_filename, encoding='cp1251') as queries_file:\n",
    "        xml_dict = xmltodict.parse(queries_file.read())\n",
    "        for task in tqdm(xml_dict['task-set']['task']):\n",
    "            all_queries[task['@id']] = (task['@id'][3:], task['querytext'])\n",
    "\n",
    "    return all_queries\n",
    "\n",
    "def get_bm25_score(query):\n",
    "    return raw_search(query)\n",
    "\n",
    "def get_doc_url_to_id():\n",
    "    docs_id_url_file_name = \"./pagerank.txt\"\n",
    "    id_to_url = defaultdict(str)\n",
    "\n",
    "    with open(docs_id_url_file_name) as docs_id_url_file:\n",
    "        for line in tqdm(docs_id_url_file):\n",
    "            tokens = line.split(\" \")\n",
    "            id_to_url[tokens[1]] = tokens[0]\n",
    "\n",
    "    return id_to_url\n",
    "    \n",
    "\n",
    "def get_train_bm25_score():\n",
    "    relevant_table_filename = \"./or_relevant-minus_table.xml\"\n",
    "    \n",
    "    print(\"Getting all queries...\")\n",
    "    all_queries = get_all_queries()\n",
    "    query_doc_pairs = []\n",
    "    url_to_id = get_doc_url_to_id()\n",
    "\n",
    "    print(\"Calculating bm25...\")\n",
    "    with open(relevant_table_filename) as table_file:\n",
    "        xml_dict = xmltodict.parse(table_file.read())\n",
    "\n",
    "        for query_dict in tqdm(xml_dict['taskDocumentMatrix']['task']):\n",
    "            try:\n",
    "                query_id = query_dict['@id']\n",
    "                query = all_queries[query_id]\n",
    "                scores = get_bm25_score(get_query(query[1]))\n",
    "                for doc_dict in query_dict['document']:\n",
    "                    doc_id = url_to_id[doc_dict['@id']]\n",
    "                    bm25 = scores.get(doc_id, 0)\n",
    "                    query_doc_pairs.append((query_id, doc_id, bm25))\n",
    "            except Exception as e:\n",
    "                print(e)\n",
    "    print(len(query_doc_pairs))\n",
    "    with open('train_bm25_feature.pkl', 'wb') as f:\n",
    "        pickle.dump(query_doc_pairs, f)\n",
    "\n",
    "\n",
    "def get_test_bm25_score():\n",
    "    relevant_table_filename = \"./relevant_table_2009.xml\"\n",
    "    \n",
    "    all_queries = get_all_queries()\n",
    "    query_doc_pairs = []\n",
    "\n",
    "    with open(relevant_table_filename) as table_file:\n",
    "        xml_dict = xmltodict.parse(table_file.read())\n",
    "\n",
    "        for query_dict in tqdm(xml_dict['taskDocumentMatrix']['task']):\n",
    "            try:\n",
    "                query_id = query_dict['@id']\n",
    "                query = all_queries[query_id]\n",
    "                scores = get_bm25_score(get_query(query[1]))\n",
    "                for doc_dict in query_dict['document']:\n",
    "                    doc_id = doc_dict['@id']\n",
    "                    bm25 = scores.get(doc_id, 0)\n",
    "                    query_doc_pairs.append((query_id, doc_id, bm25))\n",
    "            except Exception as e:\n",
    "                print(e)\n",
    "    print(len(query_doc_pairs))\n",
    "    with open('test_bm25_feature.pkl', 'wb') as f:\n",
    "        pickle.dump(query_doc_pairs, f)"
   ]
  },
  {
   "cell_type": "code",
   "execution_count": 34,
   "metadata": {},
   "outputs": [
    {
     "data": {
      "application/vnd.jupyter.widget-view+json": {
       "model_id": "aed4153c01004061952d266a270a0e31"
      }
     },
     "metadata": {},
     "output_type": "display_data"
    },
    {
     "name": "stdout",
     "output_type": "stream",
     "text": [
      "\n"
     ]
    },
    {
     "data": {
      "application/vnd.jupyter.widget-view+json": {
       "model_id": "c75f1b9eb1ca460b8da3a27ad628b78c"
      }
     },
     "metadata": {},
     "output_type": "display_data"
    },
    {
     "name": "stdout",
     "output_type": "stream",
     "text": [
      "\n",
      "77763\n"
     ]
    }
   ],
   "source": [
    "#get_train_bm25_score()\n",
    "get_test_bm25_score()"
   ]
  },
  {
   "cell_type": "code",
   "execution_count": 33,
   "metadata": {},
   "outputs": [],
   "source": [
    "#!/usr/bin/python\n",
    "\n",
    "import sys\n",
    "import os\n",
    "\n",
    "from collections import defaultdict\n",
    "import xmltodict\n",
    "import json\n",
    "from tqdm import tqdm\n",
    "\n",
    "\n",
    "def get_doc_id_to_url():\n",
    "    docs_id_url_file_name = \"./pagerank.txt\"\n",
    "    id_to_url = defaultdict(str)\n",
    "\n",
    "    with open(docs_id_url_file_name) as docs_id_url_file:\n",
    "        for line in tqdm(docs_id_url_file):\n",
    "            tokens = line.split(\" \")\n",
    "            id_to_url[tokens[0]] = tokens[1]\n",
    "\n",
    "    return id_to_url\n",
    "\n",
    "\n",
    "def get_all_docs_for_train():\n",
    "    docs_dir = \"../lemmatized_titles_pr_len\"\n",
    "    print(\"Getting doc id to url...\")\n",
    "    id_to_url = get_doc_id_to_url()\n",
    "    all_docs = defaultdict(dict)\n",
    "\n",
    "    print(\"Walking in docs dir...\")\n",
    "    for _, _, files in os.walk(docs_dir):\n",
    "        for doc_filename in tqdm(files):\n",
    "            try:\n",
    "                with open(docs_dir + \"/\" + doc_filename, encoding='utf-8') as doc_file:\n",
    "                    doc_id = doc_filename[4:]\n",
    "                    doc_url = id_to_url[doc_id]\n",
    "                    doc = json.load(doc_file)\n",
    "\n",
    "                    doc_dict = defaultdict(str)\n",
    "                    doc_dict[\"id\"] = doc_id\n",
    "                    doc_dict[\"url\"] = doc_url\n",
    "                    doc_dict[\"title\"] = doc[\"title\"]\n",
    "                    doc_dict[\"pagerank\"] = doc[\"pagerank\"]\n",
    "                    doc_dict[\"urllen\"] = doc[\"urllen\"]\n",
    "                    doc_dict[\"doclen\"] = doc[\"doclen\"]\n",
    "                    doc_dict[\"content\"] = doc[\"content\"]\n",
    "\n",
    "                    all_docs[doc_url] = doc_dict\n",
    "            except Exception as e:\n",
    "                print(e)\n",
    "\n",
    "    return all_docs\n",
    "\n",
    "\n",
    "def get_all_docs_for_test():\n",
    "    docs_dir = \"../lemmatized_titles_pr_len\"\n",
    "    id_to_url = get_doc_id_to_url()\n",
    "    all_docs = defaultdict(dict)\n",
    "\n",
    "    for _, _, files in os.walk(docs_dir):\n",
    "        for doc_filename in tqdm(files):\n",
    "            try:\n",
    "                with open(docs_dir + \"/\" + doc_filename, encoding='utf-8') as doc_file:\n",
    "                    doc_id = doc_filename[4:]\n",
    "                    doc_url = id_to_url[doc_id]\n",
    "                    doc = json.load(doc_file)\n",
    "\n",
    "                    doc_dict = defaultdict(str)\n",
    "                    doc_dict[\"id\"] = doc_id\n",
    "                    doc_dict[\"url\"] = doc_url\n",
    "                    doc_dict[\"title\"] = doc[\"title\"]\n",
    "                    doc_dict[\"pagerank\"] = doc[\"pagerank\"]\n",
    "                    doc_dict[\"urllen\"] = doc[\"urllen\"]\n",
    "                    doc_dict[\"doclen\"] = doc[\"doclen\"]\n",
    "                    doc_dict[\"content\"] = doc[\"content\"]\n",
    "\n",
    "                    all_docs[doc_id] = doc_dict\n",
    "            except Exception as e:\n",
    "                print(e)\n",
    "\n",
    "    return all_docs\n",
    "\n",
    "\n",
    "def get_all_queries():\n",
    "    queries_filename = \"./web2008_adhoc.xml\"\n",
    "    all_queries = defaultdict(tuple)\n",
    "\n",
    "    with open(queries_filename, encoding='cp1251') as queries_file:\n",
    "        xml_dict = xmltodict.parse(queries_file.read())\n",
    "        for task in tqdm(xml_dict['task-set']['task']):\n",
    "            all_queries[task['@id']] = (task['@id'][3:], task['querytext'])\n",
    "\n",
    "    return all_queries\n",
    "\n",
    "\n",
    "def get_train_query_doc_pairs():\n",
    "    relevant_table_filename = \"./or_relevant-minus_table.xml\"\n",
    "\n",
    "    print(\"Getting all docs...\")\n",
    "    all_docs = get_all_docs_for_train()\n",
    "    print(\"Getting all queries...\")\n",
    "    all_queries = get_all_queries()\n",
    "    query_doc_pairs = []\n",
    "\n",
    "    print(\"Calculating features...\")\n",
    "    with open(relevant_table_filename) as table_file:\n",
    "        xml_dict = xmltodict.parse(table_file.read())\n",
    "\n",
    "        for query_dict in tqdm(xml_dict['taskDocumentMatrix']['task']):\n",
    "            try:\n",
    "                query_id = query_dict['@id']\n",
    "                query = all_queries[query_id]\n",
    "\n",
    "                for doc_dict in query_dict['document']:\n",
    "                    doc_url = doc_dict['@id']\n",
    "                    relevance_str = doc_dict['@relevance']\n",
    "                    relevance = 1 if relevance_str == \"vital\" else 0\n",
    "                    doc = all_docs[doc_url]\n",
    "                    query_doc_pairs.append((query, doc, relevance))\n",
    "            except Exception as e:\n",
    "                print(e)\n",
    "\n",
    "    return query_doc_pairs\n",
    "\n",
    "\n",
    "def get_test_query_doc_pairs(doc_ids):\n",
    "    relevant_table_filename = \"./relevant_table_2009.xml\"\n",
    "\n",
    "    all_docs = get_all_docs_for_test()\n",
    "    all_queries = get_all_queries()\n",
    "    query_doc_pairs = []\n",
    "\n",
    "    with open(relevant_table_filename) as table_file:\n",
    "        xml_dict = xmltodict.parse(table_file.read())\n",
    "\n",
    "        for query_dict in tqdm(xml_dict['taskDocumentMatrix']['task']):\n",
    "            try:\n",
    "                query_id = query_dict['@id'][3:]\n",
    "                query = all_queries[query_id]\n",
    "\n",
    "                for doc_dict in query_dict['document']:\n",
    "                    doc_id = doc_dict['@id']\n",
    "                    if doc_id not in doc_ids[query_id]:\n",
    "                        continue\n",
    "                    relevance_str = doc_dict['@relevance']\n",
    "                    relevance = 1 if relevance_str == \"vital\" else 0\n",
    "                    doc = all_docs[doc_id]\n",
    "                    query_doc_pairs.append((query, doc, relevance))\n",
    "            except Exception as e:\n",
    "                print(e)\n",
    "\n",
    "    return query_doc_pairs\n",
    "\n",
    "\n",
    "def build_features(doc_ids):\n",
    "    query_doc_pairs = []\n",
    "\n",
    "    print(\"Getting query doc pairs...\")\n",
    "    dataset_type = \"test\"\n",
    "    if dataset_type == \"train\":\n",
    "        query_doc_pairs = get_train_query_doc_pairs()\n",
    "    elif dataset_type == \"test\":\n",
    "        query_doc_pairs = get_test_query_doc_pairs(doc_ids)\n",
    "\n",
    "    out_filename = dataset_type + \"_generated_features_elastic.txt\"\n",
    "\n",
    "    with open(out_filename, \"w\") as out_file:\n",
    "        for query, doc, relevance in tqdm(query_doc_pairs):\n",
    "            try:\n",
    "                features = []\n",
    "                # calculate new_feature_value\n",
    "                # features.append(new_feature_value)\n",
    "                features.append(len(query[1]))\n",
    "                features.append(doc[\"urllen\"])\n",
    "                features.append(doc[\"doclen\"])\n",
    "                features.append(doc[\"pagerank\"])\n",
    "\n",
    "                out_file.write(str(relevance) + \" \")\n",
    "                out_file.write(\"quid:\" + query[0] + \" \")\n",
    "                for i, feature in enumerate(features, start=1):\n",
    "                    out_file.write(str(i) + \":\" + str(feature) + \" \")\n",
    "                out_file.write(\"\\n\")\n",
    "            except Exception as e:\n",
    "                print(\"Exception: \")\n",
    "                print(e)"
   ]
  },
  {
   "cell_type": "code",
   "execution_count": 24,
   "metadata": {},
   "outputs": [],
   "source": [
    "def measure_performance_2():    \n",
    "    Q = len(relevance)\n",
    "    mrr = 0\n",
    "    ndcg_mean = 0\n",
    "    doc_ids = {}\n",
    "    for task in relevance.keys():\n",
    "        task_relevance = relevance[task]\n",
    "        doc_ids[task] = [pair[0] for pair in raw_search(get_query(task_relevance['querytext']))][:100]\n",
    "    build_features(doc_ids)"
   ]
  },
  {
   "cell_type": "code",
   "execution_count": 76,
   "metadata": {},
   "outputs": [
    {
     "ename": "ConnectionError",
     "evalue": "ConnectionError(<urllib3.connection.HTTPConnection object at 0x7fad2f45fc88>: Failed to establish a new connection: [Errno 111] Connection refused) caused by: NewConnectionError(<urllib3.connection.HTTPConnection object at 0x7fad2f45fc88>: Failed to establish a new connection: [Errno 111] Connection refused)",
     "output_type": "error",
     "traceback": [
      "\u001b[0;31m---------------------------------------------------------------------------\u001b[0m",
      "\u001b[0;31mConnectionRefusedError\u001b[0m                    Traceback (most recent call last)",
      "\u001b[0;32m/home/vladimir/.local/lib/python3.6/site-packages/urllib3/connection.py\u001b[0m in \u001b[0;36m_new_conn\u001b[0;34m(self)\u001b[0m\n\u001b[1;32m    156\u001b[0m             conn = connection.create_connection(\n\u001b[0;32m--> 157\u001b[0;31m                 \u001b[0;34m(\u001b[0m\u001b[0mself\u001b[0m\u001b[0;34m.\u001b[0m\u001b[0m_dns_host\u001b[0m\u001b[0;34m,\u001b[0m \u001b[0mself\u001b[0m\u001b[0;34m.\u001b[0m\u001b[0mport\u001b[0m\u001b[0;34m)\u001b[0m\u001b[0;34m,\u001b[0m \u001b[0mself\u001b[0m\u001b[0;34m.\u001b[0m\u001b[0mtimeout\u001b[0m\u001b[0;34m,\u001b[0m \u001b[0;34m**\u001b[0m\u001b[0mextra_kw\u001b[0m\u001b[0;34m\u001b[0m\u001b[0;34m\u001b[0m\u001b[0m\n\u001b[0m\u001b[1;32m    158\u001b[0m             )\n",
      "\u001b[0;32m/home/vladimir/.local/lib/python3.6/site-packages/urllib3/util/connection.py\u001b[0m in \u001b[0;36mcreate_connection\u001b[0;34m(address, timeout, source_address, socket_options)\u001b[0m\n\u001b[1;32m     83\u001b[0m     \u001b[0;32mif\u001b[0m \u001b[0merr\u001b[0m \u001b[0;32mis\u001b[0m \u001b[0;32mnot\u001b[0m \u001b[0;32mNone\u001b[0m\u001b[0;34m:\u001b[0m\u001b[0;34m\u001b[0m\u001b[0;34m\u001b[0m\u001b[0m\n\u001b[0;32m---> 84\u001b[0;31m         \u001b[0;32mraise\u001b[0m \u001b[0merr\u001b[0m\u001b[0;34m\u001b[0m\u001b[0;34m\u001b[0m\u001b[0m\n\u001b[0m\u001b[1;32m     85\u001b[0m \u001b[0;34m\u001b[0m\u001b[0m\n",
      "\u001b[0;32m/home/vladimir/.local/lib/python3.6/site-packages/urllib3/util/connection.py\u001b[0m in \u001b[0;36mcreate_connection\u001b[0;34m(address, timeout, source_address, socket_options)\u001b[0m\n\u001b[1;32m     73\u001b[0m                 \u001b[0msock\u001b[0m\u001b[0;34m.\u001b[0m\u001b[0mbind\u001b[0m\u001b[0;34m(\u001b[0m\u001b[0msource_address\u001b[0m\u001b[0;34m)\u001b[0m\u001b[0;34m\u001b[0m\u001b[0;34m\u001b[0m\u001b[0m\n\u001b[0;32m---> 74\u001b[0;31m             \u001b[0msock\u001b[0m\u001b[0;34m.\u001b[0m\u001b[0mconnect\u001b[0m\u001b[0;34m(\u001b[0m\u001b[0msa\u001b[0m\u001b[0;34m)\u001b[0m\u001b[0;34m\u001b[0m\u001b[0;34m\u001b[0m\u001b[0m\n\u001b[0m\u001b[1;32m     75\u001b[0m             \u001b[0;32mreturn\u001b[0m \u001b[0msock\u001b[0m\u001b[0;34m\u001b[0m\u001b[0;34m\u001b[0m\u001b[0m\n",
      "\u001b[0;31mConnectionRefusedError\u001b[0m: [Errno 111] Connection refused",
      "\nDuring handling of the above exception, another exception occurred:\n",
      "\u001b[0;31mNewConnectionError\u001b[0m                        Traceback (most recent call last)",
      "\u001b[0;32m/home/vladimir/.local/lib/python3.6/site-packages/elasticsearch/connection/http_urllib3.py\u001b[0m in \u001b[0;36mperform_request\u001b[0;34m(self, method, url, params, body, timeout, ignore, headers)\u001b[0m\n\u001b[1;32m    232\u001b[0m             response = self.pool.urlopen(\n\u001b[0;32m--> 233\u001b[0;31m                 \u001b[0mmethod\u001b[0m\u001b[0;34m,\u001b[0m \u001b[0murl\u001b[0m\u001b[0;34m,\u001b[0m \u001b[0mbody\u001b[0m\u001b[0;34m,\u001b[0m \u001b[0mretries\u001b[0m\u001b[0;34m=\u001b[0m\u001b[0mRetry\u001b[0m\u001b[0;34m(\u001b[0m\u001b[0;32mFalse\u001b[0m\u001b[0;34m)\u001b[0m\u001b[0;34m,\u001b[0m \u001b[0mheaders\u001b[0m\u001b[0;34m=\u001b[0m\u001b[0mrequest_headers\u001b[0m\u001b[0;34m,\u001b[0m \u001b[0;34m**\u001b[0m\u001b[0mkw\u001b[0m\u001b[0;34m\u001b[0m\u001b[0;34m\u001b[0m\u001b[0m\n\u001b[0m\u001b[1;32m    234\u001b[0m             )\n",
      "\u001b[0;32m/home/vladimir/.local/lib/python3.6/site-packages/urllib3/connectionpool.py\u001b[0m in \u001b[0;36murlopen\u001b[0;34m(self, method, url, body, headers, retries, redirect, assert_same_host, timeout, pool_timeout, release_conn, chunked, body_pos, **response_kw)\u001b[0m\n\u001b[1;32m    719\u001b[0m             retries = retries.increment(\n\u001b[0;32m--> 720\u001b[0;31m                 \u001b[0mmethod\u001b[0m\u001b[0;34m,\u001b[0m \u001b[0murl\u001b[0m\u001b[0;34m,\u001b[0m \u001b[0merror\u001b[0m\u001b[0;34m=\u001b[0m\u001b[0me\u001b[0m\u001b[0;34m,\u001b[0m \u001b[0m_pool\u001b[0m\u001b[0;34m=\u001b[0m\u001b[0mself\u001b[0m\u001b[0;34m,\u001b[0m \u001b[0m_stacktrace\u001b[0m\u001b[0;34m=\u001b[0m\u001b[0msys\u001b[0m\u001b[0;34m.\u001b[0m\u001b[0mexc_info\u001b[0m\u001b[0;34m(\u001b[0m\u001b[0;34m)\u001b[0m\u001b[0;34m[\u001b[0m\u001b[0;36m2\u001b[0m\u001b[0;34m]\u001b[0m\u001b[0;34m\u001b[0m\u001b[0;34m\u001b[0m\u001b[0m\n\u001b[0m\u001b[1;32m    721\u001b[0m             )\n",
      "\u001b[0;32m/home/vladimir/.local/lib/python3.6/site-packages/urllib3/util/retry.py\u001b[0m in \u001b[0;36mincrement\u001b[0;34m(self, method, url, response, error, _pool, _stacktrace)\u001b[0m\n\u001b[1;32m    375\u001b[0m             \u001b[0;31m# Disabled, indicate to re-raise the error.\u001b[0m\u001b[0;34m\u001b[0m\u001b[0;34m\u001b[0m\u001b[0;34m\u001b[0m\u001b[0m\n\u001b[0;32m--> 376\u001b[0;31m             \u001b[0;32mraise\u001b[0m \u001b[0msix\u001b[0m\u001b[0;34m.\u001b[0m\u001b[0mreraise\u001b[0m\u001b[0;34m(\u001b[0m\u001b[0mtype\u001b[0m\u001b[0;34m(\u001b[0m\u001b[0merror\u001b[0m\u001b[0;34m)\u001b[0m\u001b[0;34m,\u001b[0m \u001b[0merror\u001b[0m\u001b[0;34m,\u001b[0m \u001b[0m_stacktrace\u001b[0m\u001b[0;34m)\u001b[0m\u001b[0;34m\u001b[0m\u001b[0;34m\u001b[0m\u001b[0m\n\u001b[0m\u001b[1;32m    377\u001b[0m \u001b[0;34m\u001b[0m\u001b[0m\n",
      "\u001b[0;32m/home/vladimir/.local/lib/python3.6/site-packages/urllib3/packages/six.py\u001b[0m in \u001b[0;36mreraise\u001b[0;34m(tp, value, tb)\u001b[0m\n\u001b[1;32m    734\u001b[0m                 \u001b[0;32mraise\u001b[0m \u001b[0mvalue\u001b[0m\u001b[0;34m.\u001b[0m\u001b[0mwith_traceback\u001b[0m\u001b[0;34m(\u001b[0m\u001b[0mtb\u001b[0m\u001b[0;34m)\u001b[0m\u001b[0;34m\u001b[0m\u001b[0;34m\u001b[0m\u001b[0m\n\u001b[0;32m--> 735\u001b[0;31m             \u001b[0;32mraise\u001b[0m \u001b[0mvalue\u001b[0m\u001b[0;34m\u001b[0m\u001b[0;34m\u001b[0m\u001b[0m\n\u001b[0m\u001b[1;32m    736\u001b[0m         \u001b[0;32mfinally\u001b[0m\u001b[0;34m:\u001b[0m\u001b[0;34m\u001b[0m\u001b[0;34m\u001b[0m\u001b[0m\n",
      "\u001b[0;32m/home/vladimir/.local/lib/python3.6/site-packages/urllib3/connectionpool.py\u001b[0m in \u001b[0;36murlopen\u001b[0;34m(self, method, url, body, headers, retries, redirect, assert_same_host, timeout, pool_timeout, release_conn, chunked, body_pos, **response_kw)\u001b[0m\n\u001b[1;32m    671\u001b[0m                 \u001b[0mheaders\u001b[0m\u001b[0;34m=\u001b[0m\u001b[0mheaders\u001b[0m\u001b[0;34m,\u001b[0m\u001b[0;34m\u001b[0m\u001b[0;34m\u001b[0m\u001b[0m\n\u001b[0;32m--> 672\u001b[0;31m                 \u001b[0mchunked\u001b[0m\u001b[0;34m=\u001b[0m\u001b[0mchunked\u001b[0m\u001b[0;34m,\u001b[0m\u001b[0;34m\u001b[0m\u001b[0;34m\u001b[0m\u001b[0m\n\u001b[0m\u001b[1;32m    673\u001b[0m             )\n",
      "\u001b[0;32m/home/vladimir/.local/lib/python3.6/site-packages/urllib3/connectionpool.py\u001b[0m in \u001b[0;36m_make_request\u001b[0;34m(self, conn, method, url, timeout, chunked, **httplib_request_kw)\u001b[0m\n\u001b[1;32m    386\u001b[0m         \u001b[0;32melse\u001b[0m\u001b[0;34m:\u001b[0m\u001b[0;34m\u001b[0m\u001b[0;34m\u001b[0m\u001b[0m\n\u001b[0;32m--> 387\u001b[0;31m             \u001b[0mconn\u001b[0m\u001b[0;34m.\u001b[0m\u001b[0mrequest\u001b[0m\u001b[0;34m(\u001b[0m\u001b[0mmethod\u001b[0m\u001b[0;34m,\u001b[0m \u001b[0murl\u001b[0m\u001b[0;34m,\u001b[0m \u001b[0;34m**\u001b[0m\u001b[0mhttplib_request_kw\u001b[0m\u001b[0;34m)\u001b[0m\u001b[0;34m\u001b[0m\u001b[0;34m\u001b[0m\u001b[0m\n\u001b[0m\u001b[1;32m    388\u001b[0m \u001b[0;34m\u001b[0m\u001b[0m\n",
      "\u001b[0;32m/usr/lib/python3.6/http/client.py\u001b[0m in \u001b[0;36mrequest\u001b[0;34m(self, method, url, body, headers, encode_chunked)\u001b[0m\n\u001b[1;32m   1238\u001b[0m         \u001b[0;34m\"\"\"Send a complete request to the server.\"\"\"\u001b[0m\u001b[0;34m\u001b[0m\u001b[0;34m\u001b[0m\u001b[0m\n\u001b[0;32m-> 1239\u001b[0;31m         \u001b[0mself\u001b[0m\u001b[0;34m.\u001b[0m\u001b[0m_send_request\u001b[0m\u001b[0;34m(\u001b[0m\u001b[0mmethod\u001b[0m\u001b[0;34m,\u001b[0m \u001b[0murl\u001b[0m\u001b[0;34m,\u001b[0m \u001b[0mbody\u001b[0m\u001b[0;34m,\u001b[0m \u001b[0mheaders\u001b[0m\u001b[0;34m,\u001b[0m \u001b[0mencode_chunked\u001b[0m\u001b[0;34m)\u001b[0m\u001b[0;34m\u001b[0m\u001b[0;34m\u001b[0m\u001b[0m\n\u001b[0m\u001b[1;32m   1240\u001b[0m \u001b[0;34m\u001b[0m\u001b[0m\n",
      "\u001b[0;32m/usr/lib/python3.6/http/client.py\u001b[0m in \u001b[0;36m_send_request\u001b[0;34m(self, method, url, body, headers, encode_chunked)\u001b[0m\n\u001b[1;32m   1284\u001b[0m             \u001b[0mbody\u001b[0m \u001b[0;34m=\u001b[0m \u001b[0m_encode\u001b[0m\u001b[0;34m(\u001b[0m\u001b[0mbody\u001b[0m\u001b[0;34m,\u001b[0m \u001b[0;34m'body'\u001b[0m\u001b[0;34m)\u001b[0m\u001b[0;34m\u001b[0m\u001b[0;34m\u001b[0m\u001b[0m\n\u001b[0;32m-> 1285\u001b[0;31m         \u001b[0mself\u001b[0m\u001b[0;34m.\u001b[0m\u001b[0mendheaders\u001b[0m\u001b[0;34m(\u001b[0m\u001b[0mbody\u001b[0m\u001b[0;34m,\u001b[0m \u001b[0mencode_chunked\u001b[0m\u001b[0;34m=\u001b[0m\u001b[0mencode_chunked\u001b[0m\u001b[0;34m)\u001b[0m\u001b[0;34m\u001b[0m\u001b[0;34m\u001b[0m\u001b[0m\n\u001b[0m\u001b[1;32m   1286\u001b[0m \u001b[0;34m\u001b[0m\u001b[0m\n",
      "\u001b[0;32m/usr/lib/python3.6/http/client.py\u001b[0m in \u001b[0;36mendheaders\u001b[0;34m(self, message_body, encode_chunked)\u001b[0m\n\u001b[1;32m   1233\u001b[0m             \u001b[0;32mraise\u001b[0m \u001b[0mCannotSendHeader\u001b[0m\u001b[0;34m(\u001b[0m\u001b[0;34m)\u001b[0m\u001b[0;34m\u001b[0m\u001b[0;34m\u001b[0m\u001b[0m\n\u001b[0;32m-> 1234\u001b[0;31m         \u001b[0mself\u001b[0m\u001b[0;34m.\u001b[0m\u001b[0m_send_output\u001b[0m\u001b[0;34m(\u001b[0m\u001b[0mmessage_body\u001b[0m\u001b[0;34m,\u001b[0m \u001b[0mencode_chunked\u001b[0m\u001b[0;34m=\u001b[0m\u001b[0mencode_chunked\u001b[0m\u001b[0;34m)\u001b[0m\u001b[0;34m\u001b[0m\u001b[0;34m\u001b[0m\u001b[0m\n\u001b[0m\u001b[1;32m   1235\u001b[0m \u001b[0;34m\u001b[0m\u001b[0m\n",
      "\u001b[0;32m/usr/lib/python3.6/http/client.py\u001b[0m in \u001b[0;36m_send_output\u001b[0;34m(self, message_body, encode_chunked)\u001b[0m\n\u001b[1;32m   1025\u001b[0m         \u001b[0;32mdel\u001b[0m \u001b[0mself\u001b[0m\u001b[0;34m.\u001b[0m\u001b[0m_buffer\u001b[0m\u001b[0;34m[\u001b[0m\u001b[0;34m:\u001b[0m\u001b[0;34m]\u001b[0m\u001b[0;34m\u001b[0m\u001b[0;34m\u001b[0m\u001b[0m\n\u001b[0;32m-> 1026\u001b[0;31m         \u001b[0mself\u001b[0m\u001b[0;34m.\u001b[0m\u001b[0msend\u001b[0m\u001b[0;34m(\u001b[0m\u001b[0mmsg\u001b[0m\u001b[0;34m)\u001b[0m\u001b[0;34m\u001b[0m\u001b[0;34m\u001b[0m\u001b[0m\n\u001b[0m\u001b[1;32m   1027\u001b[0m \u001b[0;34m\u001b[0m\u001b[0m\n",
      "\u001b[0;32m/usr/lib/python3.6/http/client.py\u001b[0m in \u001b[0;36msend\u001b[0;34m(self, data)\u001b[0m\n\u001b[1;32m    963\u001b[0m             \u001b[0;32mif\u001b[0m \u001b[0mself\u001b[0m\u001b[0;34m.\u001b[0m\u001b[0mauto_open\u001b[0m\u001b[0;34m:\u001b[0m\u001b[0;34m\u001b[0m\u001b[0;34m\u001b[0m\u001b[0m\n\u001b[0;32m--> 964\u001b[0;31m                 \u001b[0mself\u001b[0m\u001b[0;34m.\u001b[0m\u001b[0mconnect\u001b[0m\u001b[0;34m(\u001b[0m\u001b[0;34m)\u001b[0m\u001b[0;34m\u001b[0m\u001b[0;34m\u001b[0m\u001b[0m\n\u001b[0m\u001b[1;32m    965\u001b[0m             \u001b[0;32melse\u001b[0m\u001b[0;34m:\u001b[0m\u001b[0;34m\u001b[0m\u001b[0;34m\u001b[0m\u001b[0m\n",
      "\u001b[0;32m/home/vladimir/.local/lib/python3.6/site-packages/urllib3/connection.py\u001b[0m in \u001b[0;36mconnect\u001b[0;34m(self)\u001b[0m\n\u001b[1;32m    183\u001b[0m     \u001b[0;32mdef\u001b[0m \u001b[0mconnect\u001b[0m\u001b[0;34m(\u001b[0m\u001b[0mself\u001b[0m\u001b[0;34m)\u001b[0m\u001b[0;34m:\u001b[0m\u001b[0;34m\u001b[0m\u001b[0;34m\u001b[0m\u001b[0m\n\u001b[0;32m--> 184\u001b[0;31m         \u001b[0mconn\u001b[0m \u001b[0;34m=\u001b[0m \u001b[0mself\u001b[0m\u001b[0;34m.\u001b[0m\u001b[0m_new_conn\u001b[0m\u001b[0;34m(\u001b[0m\u001b[0;34m)\u001b[0m\u001b[0;34m\u001b[0m\u001b[0;34m\u001b[0m\u001b[0m\n\u001b[0m\u001b[1;32m    185\u001b[0m         \u001b[0mself\u001b[0m\u001b[0;34m.\u001b[0m\u001b[0m_prepare_conn\u001b[0m\u001b[0;34m(\u001b[0m\u001b[0mconn\u001b[0m\u001b[0;34m)\u001b[0m\u001b[0;34m\u001b[0m\u001b[0;34m\u001b[0m\u001b[0m\n",
      "\u001b[0;32m/home/vladimir/.local/lib/python3.6/site-packages/urllib3/connection.py\u001b[0m in \u001b[0;36m_new_conn\u001b[0;34m(self)\u001b[0m\n\u001b[1;32m    168\u001b[0m             raise NewConnectionError(\n\u001b[0;32m--> 169\u001b[0;31m                 \u001b[0mself\u001b[0m\u001b[0;34m,\u001b[0m \u001b[0;34m\"Failed to establish a new connection: %s\"\u001b[0m \u001b[0;34m%\u001b[0m \u001b[0me\u001b[0m\u001b[0;34m\u001b[0m\u001b[0;34m\u001b[0m\u001b[0m\n\u001b[0m\u001b[1;32m    170\u001b[0m             )\n",
      "\u001b[0;31mNewConnectionError\u001b[0m: <urllib3.connection.HTTPConnection object at 0x7fad2f45fc88>: Failed to establish a new connection: [Errno 111] Connection refused",
      "\nDuring handling of the above exception, another exception occurred:\n",
      "\u001b[0;31mConnectionError\u001b[0m                           Traceback (most recent call last)",
      "\u001b[0;32m<ipython-input-76-d5b0720c0215>\u001b[0m in \u001b[0;36m<module>\u001b[0;34m()\u001b[0m\n\u001b[0;32m----> 1\u001b[0;31m \u001b[0mmeasure_performance_2\u001b[0m\u001b[0;34m(\u001b[0m\u001b[0;34m)\u001b[0m\u001b[0;34m\u001b[0m\u001b[0;34m\u001b[0m\u001b[0m\n\u001b[0m",
      "\u001b[0;32m<ipython-input-24-3c7e63eca825>\u001b[0m in \u001b[0;36mmeasure_performance_2\u001b[0;34m()\u001b[0m\n\u001b[1;32m      6\u001b[0m     \u001b[0;32mfor\u001b[0m \u001b[0mtask\u001b[0m \u001b[0;32min\u001b[0m \u001b[0mrelevance\u001b[0m\u001b[0;34m.\u001b[0m\u001b[0mkeys\u001b[0m\u001b[0;34m(\u001b[0m\u001b[0;34m)\u001b[0m\u001b[0;34m:\u001b[0m\u001b[0;34m\u001b[0m\u001b[0;34m\u001b[0m\u001b[0m\n\u001b[1;32m      7\u001b[0m         \u001b[0mtask_relevance\u001b[0m \u001b[0;34m=\u001b[0m \u001b[0mrelevance\u001b[0m\u001b[0;34m[\u001b[0m\u001b[0mtask\u001b[0m\u001b[0;34m]\u001b[0m\u001b[0;34m\u001b[0m\u001b[0;34m\u001b[0m\u001b[0m\n\u001b[0;32m----> 8\u001b[0;31m         \u001b[0mdoc_ids\u001b[0m\u001b[0;34m[\u001b[0m\u001b[0mtask\u001b[0m\u001b[0;34m]\u001b[0m \u001b[0;34m=\u001b[0m \u001b[0;34m[\u001b[0m\u001b[0mpair\u001b[0m\u001b[0;34m[\u001b[0m\u001b[0;36m0\u001b[0m\u001b[0;34m]\u001b[0m \u001b[0;32mfor\u001b[0m \u001b[0mpair\u001b[0m \u001b[0;32min\u001b[0m \u001b[0mraw_search\u001b[0m\u001b[0;34m(\u001b[0m\u001b[0mget_query\u001b[0m\u001b[0;34m(\u001b[0m\u001b[0mtask_relevance\u001b[0m\u001b[0;34m[\u001b[0m\u001b[0;34m'querytext'\u001b[0m\u001b[0;34m]\u001b[0m\u001b[0;34m)\u001b[0m\u001b[0;34m)\u001b[0m\u001b[0;34m]\u001b[0m\u001b[0;34m[\u001b[0m\u001b[0;34m:\u001b[0m\u001b[0;36m100\u001b[0m\u001b[0;34m]\u001b[0m\u001b[0;34m\u001b[0m\u001b[0;34m\u001b[0m\u001b[0m\n\u001b[0m\u001b[1;32m      9\u001b[0m     \u001b[0mbuild_features\u001b[0m\u001b[0;34m(\u001b[0m\u001b[0mdoc_ids\u001b[0m\u001b[0;34m)\u001b[0m\u001b[0;34m\u001b[0m\u001b[0;34m\u001b[0m\u001b[0m\n",
      "\u001b[0;32m<ipython-input-74-27f1a845ba65>\u001b[0m in \u001b[0;36mraw_search\u001b[0;34m(query)\u001b[0m\n\u001b[1;32m      4\u001b[0m \u001b[0;34m\u001b[0m\u001b[0m\n\u001b[1;32m      5\u001b[0m \u001b[0;32mdef\u001b[0m \u001b[0mraw_search\u001b[0m\u001b[0;34m(\u001b[0m\u001b[0mquery\u001b[0m\u001b[0;34m)\u001b[0m\u001b[0;34m:\u001b[0m\u001b[0;34m\u001b[0m\u001b[0;34m\u001b[0m\u001b[0m\n\u001b[0;32m----> 6\u001b[0;31m     \u001b[0msearch_result\u001b[0m \u001b[0;34m=\u001b[0m \u001b[0mes\u001b[0m\u001b[0;34m.\u001b[0m\u001b[0msearch\u001b[0m\u001b[0;34m(\u001b[0m\u001b[0mindex\u001b[0m\u001b[0;34m=\u001b[0m\u001b[0;34m'myandex'\u001b[0m\u001b[0;34m,\u001b[0m \u001b[0mbody\u001b[0m\u001b[0;34m=\u001b[0m\u001b[0mquery\u001b[0m\u001b[0;34m,\u001b[0m \u001b[0msize\u001b[0m\u001b[0;34m=\u001b[0m\u001b[0;36m100\u001b[0m\u001b[0;34m)\u001b[0m\u001b[0;34m[\u001b[0m\u001b[0;34m'hits'\u001b[0m\u001b[0;34m]\u001b[0m\u001b[0;34m\u001b[0m\u001b[0;34m\u001b[0m\u001b[0m\n\u001b[0m\u001b[1;32m      7\u001b[0m     \u001b[0;32mreturn\u001b[0m \u001b[0;34m{\u001b[0m\u001b[0mhit\u001b[0m\u001b[0;34m[\u001b[0m\u001b[0;34m'_id'\u001b[0m\u001b[0;34m]\u001b[0m\u001b[0;34m:\u001b[0m \u001b[0mhit\u001b[0m\u001b[0;34m[\u001b[0m\u001b[0;34m'_score'\u001b[0m\u001b[0;34m]\u001b[0m \u001b[0;32mfor\u001b[0m \u001b[0mhit\u001b[0m \u001b[0;32min\u001b[0m \u001b[0msearch_result\u001b[0m\u001b[0;34m[\u001b[0m\u001b[0;34m'hits'\u001b[0m\u001b[0;34m]\u001b[0m\u001b[0;34m}\u001b[0m\u001b[0;34m\u001b[0m\u001b[0;34m\u001b[0m\u001b[0m\n\u001b[1;32m      8\u001b[0m \u001b[0;34m\u001b[0m\u001b[0m\n",
      "\u001b[0;32m/home/vladimir/.local/lib/python3.6/site-packages/elasticsearch/client/utils.py\u001b[0m in \u001b[0;36m_wrapped\u001b[0;34m(*args, **kwargs)\u001b[0m\n\u001b[1;32m     82\u001b[0m                 \u001b[0;32mif\u001b[0m \u001b[0mp\u001b[0m \u001b[0;32min\u001b[0m \u001b[0mkwargs\u001b[0m\u001b[0;34m:\u001b[0m\u001b[0;34m\u001b[0m\u001b[0;34m\u001b[0m\u001b[0m\n\u001b[1;32m     83\u001b[0m                     \u001b[0mparams\u001b[0m\u001b[0;34m[\u001b[0m\u001b[0mp\u001b[0m\u001b[0;34m]\u001b[0m \u001b[0;34m=\u001b[0m \u001b[0mkwargs\u001b[0m\u001b[0;34m.\u001b[0m\u001b[0mpop\u001b[0m\u001b[0;34m(\u001b[0m\u001b[0mp\u001b[0m\u001b[0;34m)\u001b[0m\u001b[0;34m\u001b[0m\u001b[0;34m\u001b[0m\u001b[0m\n\u001b[0;32m---> 84\u001b[0;31m             \u001b[0;32mreturn\u001b[0m \u001b[0mfunc\u001b[0m\u001b[0;34m(\u001b[0m\u001b[0;34m*\u001b[0m\u001b[0margs\u001b[0m\u001b[0;34m,\u001b[0m \u001b[0mparams\u001b[0m\u001b[0;34m=\u001b[0m\u001b[0mparams\u001b[0m\u001b[0;34m,\u001b[0m \u001b[0;34m**\u001b[0m\u001b[0mkwargs\u001b[0m\u001b[0;34m)\u001b[0m\u001b[0;34m\u001b[0m\u001b[0;34m\u001b[0m\u001b[0m\n\u001b[0m\u001b[1;32m     85\u001b[0m \u001b[0;34m\u001b[0m\u001b[0m\n\u001b[1;32m     86\u001b[0m         \u001b[0;32mreturn\u001b[0m \u001b[0m_wrapped\u001b[0m\u001b[0;34m\u001b[0m\u001b[0;34m\u001b[0m\u001b[0m\n",
      "\u001b[0;32m/home/vladimir/.local/lib/python3.6/site-packages/elasticsearch/client/__init__.py\u001b[0m in \u001b[0;36msearch\u001b[0;34m(self, index, body, params)\u001b[0m\n\u001b[1;32m    817\u001b[0m             \u001b[0mindex\u001b[0m \u001b[0;34m=\u001b[0m \u001b[0;34m\"_all\"\u001b[0m\u001b[0;34m\u001b[0m\u001b[0;34m\u001b[0m\u001b[0m\n\u001b[1;32m    818\u001b[0m         return self.transport.perform_request(\n\u001b[0;32m--> 819\u001b[0;31m             \u001b[0;34m\"GET\"\u001b[0m\u001b[0;34m,\u001b[0m \u001b[0m_make_path\u001b[0m\u001b[0;34m(\u001b[0m\u001b[0mindex\u001b[0m\u001b[0;34m,\u001b[0m \u001b[0;34m\"_search\"\u001b[0m\u001b[0;34m)\u001b[0m\u001b[0;34m,\u001b[0m \u001b[0mparams\u001b[0m\u001b[0;34m=\u001b[0m\u001b[0mparams\u001b[0m\u001b[0;34m,\u001b[0m \u001b[0mbody\u001b[0m\u001b[0;34m=\u001b[0m\u001b[0mbody\u001b[0m\u001b[0;34m\u001b[0m\u001b[0;34m\u001b[0m\u001b[0m\n\u001b[0m\u001b[1;32m    820\u001b[0m         )\n\u001b[1;32m    821\u001b[0m \u001b[0;34m\u001b[0m\u001b[0m\n",
      "\u001b[0;32m/home/vladimir/.local/lib/python3.6/site-packages/elasticsearch/transport.py\u001b[0m in \u001b[0;36mperform_request\u001b[0;34m(self, method, url, headers, params, body)\u001b[0m\n\u001b[1;32m    348\u001b[0m                     \u001b[0mheaders\u001b[0m\u001b[0;34m=\u001b[0m\u001b[0mheaders\u001b[0m\u001b[0;34m,\u001b[0m\u001b[0;34m\u001b[0m\u001b[0;34m\u001b[0m\u001b[0m\n\u001b[1;32m    349\u001b[0m                     \u001b[0mignore\u001b[0m\u001b[0;34m=\u001b[0m\u001b[0mignore\u001b[0m\u001b[0;34m,\u001b[0m\u001b[0;34m\u001b[0m\u001b[0;34m\u001b[0m\u001b[0m\n\u001b[0;32m--> 350\u001b[0;31m                     \u001b[0mtimeout\u001b[0m\u001b[0;34m=\u001b[0m\u001b[0mtimeout\u001b[0m\u001b[0;34m,\u001b[0m\u001b[0;34m\u001b[0m\u001b[0;34m\u001b[0m\u001b[0m\n\u001b[0m\u001b[1;32m    351\u001b[0m                 )\n\u001b[1;32m    352\u001b[0m \u001b[0;34m\u001b[0m\u001b[0m\n",
      "\u001b[0;32m/home/vladimir/.local/lib/python3.6/site-packages/elasticsearch/connection/http_urllib3.py\u001b[0m in \u001b[0;36mperform_request\u001b[0;34m(self, method, url, params, body, timeout, ignore, headers)\u001b[0m\n\u001b[1;32m    243\u001b[0m             \u001b[0;32mif\u001b[0m \u001b[0misinstance\u001b[0m\u001b[0;34m(\u001b[0m\u001b[0me\u001b[0m\u001b[0;34m,\u001b[0m \u001b[0mReadTimeoutError\u001b[0m\u001b[0;34m)\u001b[0m\u001b[0;34m:\u001b[0m\u001b[0;34m\u001b[0m\u001b[0;34m\u001b[0m\u001b[0m\n\u001b[1;32m    244\u001b[0m                 \u001b[0;32mraise\u001b[0m \u001b[0mConnectionTimeout\u001b[0m\u001b[0;34m(\u001b[0m\u001b[0;34m\"TIMEOUT\"\u001b[0m\u001b[0;34m,\u001b[0m \u001b[0mstr\u001b[0m\u001b[0;34m(\u001b[0m\u001b[0me\u001b[0m\u001b[0;34m)\u001b[0m\u001b[0;34m,\u001b[0m \u001b[0me\u001b[0m\u001b[0;34m)\u001b[0m\u001b[0;34m\u001b[0m\u001b[0;34m\u001b[0m\u001b[0m\n\u001b[0;32m--> 245\u001b[0;31m             \u001b[0;32mraise\u001b[0m \u001b[0mConnectionError\u001b[0m\u001b[0;34m(\u001b[0m\u001b[0;34m\"N/A\"\u001b[0m\u001b[0;34m,\u001b[0m \u001b[0mstr\u001b[0m\u001b[0;34m(\u001b[0m\u001b[0me\u001b[0m\u001b[0;34m)\u001b[0m\u001b[0;34m,\u001b[0m \u001b[0me\u001b[0m\u001b[0;34m)\u001b[0m\u001b[0;34m\u001b[0m\u001b[0;34m\u001b[0m\u001b[0m\n\u001b[0m\u001b[1;32m    246\u001b[0m \u001b[0;34m\u001b[0m\u001b[0m\n\u001b[1;32m    247\u001b[0m         \u001b[0;31m# raise errors based on http status codes, let the client handle those if needed\u001b[0m\u001b[0;34m\u001b[0m\u001b[0;34m\u001b[0m\u001b[0;34m\u001b[0m\u001b[0m\n",
      "\u001b[0;31mConnectionError\u001b[0m: ConnectionError(<urllib3.connection.HTTPConnection object at 0x7fad2f45fc88>: Failed to establish a new connection: [Errno 111] Connection refused) caused by: NewConnectionError(<urllib3.connection.HTTPConnection object at 0x7fad2f45fc88>: Failed to establish a new connection: [Errno 111] Connection refused)"
     ]
    }
   ],
   "source": [
    "measure_performance_2()"
   ]
  },
  {
   "cell_type": "code",
   "execution_count": 85,
   "metadata": {},
   "outputs": [
    {
     "data": {
      "text/plain": [
       "[('396447', 2.398802)]"
      ]
     },
     "execution_count": 85,
     "metadata": {},
     "output_type": "execute_result"
    }
   ],
   "source": [
    "raw_search(get_query(\"я\"))"
   ]
  },
  {
   "cell_type": "code",
   "execution_count": 100,
   "metadata": {},
   "outputs": [],
   "source": [
    "from sklearn.feature_selection import mutual_info_classif\n",
    "def print_feature_importance():\n",
    "    train = './train_generated_features.txt'\n",
    "    with open(train) as train_features:\n",
    "        lines = train_features.readlines()\n",
    "        X = np.zeros((len(lines), 4))\n",
    "        y = np.zeros(len(lines))\n",
    "        for i, line in enumerate(lines):\n",
    "            parts = line.split(\"\\n\")[0].split(\" \")\n",
    "            X[i][0] = float(parts[2].split(\":\")[1])\n",
    "            X[i][1] = float(parts[3].split(\":\")[1])\n",
    "            X[i][2] = float(parts[4].split(\":\")[1])\n",
    "            X[i][3] = float(parts[5].split(\":\")[1])\n",
    "            y[i] = parts[0]\n",
    "    print(mutual_info_classif(X, y))"
   ]
  },
  {
   "cell_type": "code",
   "execution_count": 101,
   "metadata": {},
   "outputs": [
    {
     "name": "stdout",
     "output_type": "stream",
     "text": [
      "[ 0.0336692   0.00565359  0.02178088  0.04768679]\n"
     ]
    }
   ],
   "source": [
    "print_feature_importance()"
   ]
  },
  {
   "cell_type": "code",
   "execution_count": null,
   "metadata": {},
   "outputs": [],
   "source": []
  }
 ],
 "metadata": {
  "kernelspec": {
   "display_name": "Python 3",
   "language": "python",
   "name": "python3"
  },
  "language_info": {
   "codemirror_mode": {
    "name": "ipython",
    "version": 3
   },
   "file_extension": ".py",
   "mimetype": "text/x-python",
   "name": "python",
   "nbconvert_exporter": "python",
   "pygments_lexer": "ipython3",
   "version": "3.6.8"
  }
 },
 "nbformat": 4,
 "nbformat_minor": 2
}

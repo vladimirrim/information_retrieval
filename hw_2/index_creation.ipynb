{
 "cells": [
  {
   "cell_type": "code",
   "execution_count": 109,
   "metadata": {},
   "outputs": [],
   "source": [
    "%config IPCompleter.greedy=True\n",
    "import re\n",
    "import json\n",
    "from collections import defaultdict\n",
    "from tqdm import tqdm_notebook as tqdm\n",
    "from elasticsearch import Elasticsearch\n",
    "from elasticsearch.helpers import parallel_bulk\n",
    "from sklearn.feature_extraction.text import CountVectorizer\n",
    "import requests\n",
    "from time import time\n",
    "import time\n",
    "\n",
    "import base64\n",
    "import xmltodict"
   ]
  },
  {
   "cell_type": "code",
   "execution_count": 110,
   "metadata": {},
   "outputs": [],
   "source": [
    "es = Elasticsearch([{'host': 'localhost', 'port': 9200, 'timeout': 360, 'maxsize': 25}])"
   ]
  },
  {
   "cell_type": "code",
   "execution_count": 111,
   "metadata": {},
   "outputs": [
    {
     "data": {
      "text/plain": [
       "{'acknowledged': True, 'shards_acknowledged': True, 'index': 'myandex'}"
      ]
     },
     "execution_count": 111,
     "metadata": {},
     "output_type": "execute_result"
    }
   ],
   "source": [
    "documents_by_id = {}\n",
    "es.indices.delete(index='myandex')\n",
    "es.indices.create(index='myandex')"
   ]
  },
  {
   "cell_type": "code",
   "execution_count": 112,
   "metadata": {},
   "outputs": [],
   "source": [
    "def processFile(i):\n",
    "    prefix = '../hw_1/byweb_for_course/byweb.'\n",
    "    suffix = '.xml'\n",
    "    filename = prefix + str(i) + suffix\n",
    "    with open(filename, 'rb') as f:\n",
    "        decoded = f.read().decode('cp1251')\n",
    "        xmldict = xmltodict.parse(decoded)\n",
    "        for doc in tqdm(xmldict['romip:dataset']['document']):\n",
    "            try:\n",
    "                docID = doc['docID']\n",
    "                documents_by_id[docID] = {}\n",
    "                url = base64.b64decode(doc['docURL']).decode('cp1251')\n",
    "                content = base64.b64decode(doc['content']['#text']).decode('cp1251')\n",
    "                documents_by_id[docID]['url'] = url\n",
    "                documents_by_id[docID]['content'] = content\n",
    "            except Exception as e:\n",
    "                print(e)"
   ]
  },
  {
   "cell_type": "code",
   "execution_count": 113,
   "metadata": {},
   "outputs": [
    {
     "data": {
      "application/vnd.jupyter.widget-view+json": {
       "model_id": "b355c7f4a8094c8fa39ea6947ab2537b",
       "version_major": 2,
       "version_minor": 0
      },
      "text/plain": [
       "HBox(children=(IntProgress(value=0, max=20000), HTML(value='')))"
      ]
     },
     "metadata": {},
     "output_type": "display_data"
    },
    {
     "name": "stdout",
     "output_type": "stream",
     "text": [
      "\n"
     ]
    }
   ],
   "source": [
    "for i in range(10):\n",
    "    processFile(i)"
   ]
  },
  {
   "cell_type": "code",
   "execution_count": 131,
   "metadata": {},
   "outputs": [],
   "source": [
    "settings_final = {\n",
    "    'mappings': {\n",
    "        'properties': {\n",
    "            'url': {\n",
    "                'type': 'text'\n",
    "            },\n",
    "            'content': {\n",
    "                'type': 'text',\n",
    "                \"analyzer\": \"my_custom_analyzer\"\n",
    "            }\n",
    "        }\n",
    "    },\n",
    "    \"settings\": {\n",
    "    \"analysis\": {\n",
    "      \"analyzer\": {\n",
    "        \"my_custom_analyzer\": {\n",
    "          \"type\":      \"custom\", \n",
    "          \"tokenizer\": \"standard\",\n",
    "          \"char_filter\": [\n",
    "            \"html_strip\",\n",
    "            \"yont\"\n",
    "          ],\n",
    "          \"filter\": [\n",
    "            \"lowercase\",\n",
    "            \"asciifolding\",\n",
    "            \"russian_snow\",\n",
    "            \"english_snow\"\n",
    "          ]\n",
    "        }\n",
    "      },\n",
    "        'char_filter': {\n",
    "                'yont': {\n",
    "                    'type': 'mapping',\n",
    "                    'mappings': [\n",
    "                        'ё => е',\n",
    "                        'Ё => Е'\n",
    "                    ]\n",
    "                }\n",
    "            },\n",
    "    'filter': {\n",
    "            'stop_words': {\n",
    "                'type': 'stop',\n",
    "                'stopwords': [\n",
    "                ]\n",
    "            },\n",
    "            'russian_snow': {\n",
    "                'type': 'snowball',\n",
    "                'language': 'russian'\n",
    "            },\n",
    "            'english_snow': {\n",
    "                'type': 'snowball',\n",
    "                'language': 'english'\n",
    "            }\n",
    "     }\n",
    "    }\n",
    "  }\n",
    "}"
   ]
  },
  {
   "cell_type": "code",
   "execution_count": 132,
   "metadata": {},
   "outputs": [],
   "source": [
    "def recreate_index():\n",
    "    es.indices.delete(index='myandex')\n",
    "    es.indices.create(index='myandex', body=settings_final)"
   ]
  },
  {
   "cell_type": "code",
   "execution_count": 133,
   "metadata": {},
   "outputs": [],
   "source": [
    "recreate_index()"
   ]
  },
  {
   "cell_type": "code",
   "execution_count": 134,
   "metadata": {},
   "outputs": [],
   "source": [
    "def check_analyzer(analyzer, text):\n",
    "    body = analyzer\n",
    "    body['text'] = text\n",
    "    \n",
    "    tokens = es.indices.analyze(index='myandex', body=body)['tokens']\n",
    "    tokens = [token_info['token'] for token_info in tokens]\n",
    "    return tokens"
   ]
  },
  {
   "cell_type": "code",
   "execution_count": 135,
   "metadata": {},
   "outputs": [
    {
     "data": {
      "text/plain": [
       "['bla', 'bla', 'русск', 'countabl', 'текст', 'ешкин', 'кот']"
      ]
     },
     "execution_count": 135,
     "metadata": {},
     "output_type": "execute_result"
    }
   ],
   "source": [
    "analyzer = {\n",
    "    'analyzer': 'my_custom_analyzer'\n",
    "}\n",
    "\n",
    "check_analyzer(analyzer, '<meta http-equiv=\"Content-Type\" content=\"text/html; charset=windows-1251\"> bla bla русский countable текст Ёшкин кот')"
   ]
  },
  {
   "cell_type": "code",
   "execution_count": 136,
   "metadata": {},
   "outputs": [],
   "source": [
    "def create_es_action(index, doc_id, document):\n",
    "    return {\n",
    "        '_index': index,\n",
    "        '_id': doc_id,\n",
    "        '_source': document\n",
    "    }"
   ]
  },
  {
   "cell_type": "code",
   "execution_count": 137,
   "metadata": {},
   "outputs": [],
   "source": [
    "def es_actions_generator():\n",
    "    for doc_id, doc in tqdm(documents_by_id.items()):\n",
    "        yield create_es_action('myandex', doc_id, doc)"
   ]
  },
  {
   "cell_type": "code",
   "execution_count": 138,
   "metadata": {},
   "outputs": [
    {
     "data": {
      "application/vnd.jupyter.widget-view+json": {
       "model_id": "0c483bf3d06c4a13b3974e353ad7b67f",
       "version_major": 2,
       "version_minor": 0
      },
      "text/plain": [
       "HBox(children=(IntProgress(value=0, max=20000), HTML(value='')))"
      ]
     },
     "metadata": {},
     "output_type": "display_data"
    },
    {
     "name": "stdout",
     "output_type": "stream",
     "text": [
      "\n",
      "Time on index creation: 00:00:47.12\n",
      "In seconds: 47.07131552696228\n"
     ]
    }
   ],
   "source": [
    "start = time.time()\n",
    "for ok, result in parallel_bulk(es, es_actions_generator(), queue_size=4, thread_count=4, chunk_size=1000):\n",
    "    if not ok:\n",
    "        print(result)\n",
    "end = time.time()\n",
    "print(f\"Time on index creation: {time.strftime('%H:%M:%S.%l', time.gmtime(end - start))}\")\n",
    "print(f\"In seconds: {end - start}\")"
   ]
  },
  {
   "cell_type": "code",
   "execution_count": 141,
   "metadata": {},
   "outputs": [],
   "source": [
    "def search(query, *args):\n",
    "    pretty_print_result(es.search(index='myandex', body=query, size=20), args)\n",
    "    # note that size set to 20 just because default value is 10 and we know that we have 12 docs and 10 < 12 < 20\n",
    "\n",
    "def raw_search(query):\n",
    "    search_result = es.search(index='myandex', body=query, size=20)['hits']\n",
    "    return [(hit['_id'], hit['_score']) for hit in search_result['hits']]\n",
    "    \n",
    "def pretty_print_result(search_result, fields=[]):\n",
    "    # fields is a list of fields names which we want to be printed\n",
    "    res = search_result['hits']\n",
    "    print(f'Total documents: {res[\"total\"][\"value\"]}')\n",
    "    for hit in res['hits'][:6]:\n",
    "        print(f'Doc {hit[\"_id\"]}, score is {hit[\"_score\"]}')\n",
    "        for field in fields:\n",
    "            print(f'{field}: {hit[\"_source\"][field]}')\n",
    "                  \n",
    "def get_doc_by_id(doc_id):\n",
    "    return es.get(index='myandex', id=doc_id)['_source']"
   ]
  },
  {
   "cell_type": "code",
   "execution_count": 142,
   "metadata": {},
   "outputs": [
    {
     "name": "stdout",
     "output_type": "stream",
     "text": [
      "Total documents: 0\n"
     ]
    },
    {
     "data": {
      "text/plain": [
       "[]"
      ]
     },
     "execution_count": 142,
     "metadata": {},
     "output_type": "execute_result"
    }
   ],
   "source": [
    "def get_query(query):\n",
    "    return {\n",
    "    'query': {\n",
    "        'bool': {\n",
    "            'should': {\n",
    "                'match': {\n",
    "                    'content': query\n",
    "                }\n",
    "            }\n",
    "        }\n",
    "    }\n",
    "    }\n",
    "\n",
    "q = get_query('<meta http-equiv=\"Content-Type\" content=\"text/html; charset=windows-1251\">')\n",
    "search(q)\n",
    "raw_search(q)"
   ]
  },
  {
   "cell_type": "code",
   "execution_count": 139,
   "metadata": {},
   "outputs": [],
   "source": [
    "def print_index_size(index): \n",
    "    print(f\"Size of index: {es.indices.stats(index)['_all']['primaries']['store']['size_in_bytes'] / 2 ** 30} GB\")"
   ]
  },
  {
   "cell_type": "code",
   "execution_count": 140,
   "metadata": {},
   "outputs": [
    {
     "name": "stdout",
     "output_type": "stream",
     "text": [
      "Size of index: 0.29422952700406313 GB\n"
     ]
    }
   ],
   "source": [
    "print_index_size('myandex')"
   ]
  },
  {
   "cell_type": "code",
   "execution_count": 143,
   "metadata": {},
   "outputs": [],
   "source": [
    "def load_queries_and_relevance():\n",
    "    relevance = defaultdict(dict)\n",
    "    filename = '../or_relevant-minus_table.xml'\n",
    "    with open(filename, 'rb') as f:\n",
    "        xmldict = xmltodict.parse(f.read())\n",
    "        for task in tqdm(xmldict['taskDocumentMatrix']['task']):\n",
    "            task_rel = {}\n",
    "            has_vital = False\n",
    "            for doc in task['document']:\n",
    "                if doc['@relevance'] == 'vital':\n",
    "                    has_vital = True\n",
    "                task_rel[doc['@id']] = doc['@relevance']\n",
    "            if has_vital:\n",
    "                relevance[task['@id']] = task_rel\n",
    "    filename = '../web2008_adhoc.xml'\n",
    "    with open(filename, 'rb') as f:\n",
    "        xmldict = xmltodict.parse(f.read())\n",
    "        for task in tqdm(xmldict['task-set']['task']):\n",
    "            if task['@id'] in relevance:\n",
    "                relevance[task['@id']]['querytext'] = task['querytext']\n",
    "    return relevance"
   ]
  },
  {
   "cell_type": "code",
   "execution_count": 144,
   "metadata": {},
   "outputs": [
    {
     "data": {
      "application/vnd.jupyter.widget-view+json": {
       "model_id": "68648ca95857491684eae667edf7c1ef",
       "version_major": 2,
       "version_minor": 0
      },
      "text/plain": [
       "HBox(children=(IntProgress(value=0, max=547), HTML(value='')))"
      ]
     },
     "metadata": {},
     "output_type": "display_data"
    },
    {
     "name": "stdout",
     "output_type": "stream",
     "text": [
      "\n"
     ]
    },
    {
     "data": {
      "application/vnd.jupyter.widget-view+json": {
       "model_id": "b79086023cab4717b03718cd5bccadbd",
       "version_major": 2,
       "version_minor": 0
      },
      "text/plain": [
       "HBox(children=(IntProgress(value=0, max=29231), HTML(value='')))"
      ]
     },
     "metadata": {},
     "output_type": "display_data"
    },
    {
     "name": "stdout",
     "output_type": "stream",
     "text": [
      "\n"
     ]
    }
   ],
   "source": [
    "relevance = load_queries_and_relevance()"
   ]
  },
  {
   "cell_type": "code",
   "execution_count": 145,
   "metadata": {},
   "outputs": [],
   "source": [
    "def get_number_of_correct_out_of_k(results, task_relevance, k):\n",
    "    return sum([1 if res[0] in task_relevance and task_relevance[res[0]] == 'vital' else 0 for res in results[:k]])\n",
    "\n",
    "def measure_performance():    \n",
    "    Q = len(relevance)\n",
    "    pq = 0\n",
    "    rq = 0\n",
    "    prq = 0\n",
    "    mapq = 0\n",
    "    for task in relevance.keys():\n",
    "        sk = 0\n",
    "        task_relevance = relevance[task]\n",
    "        results = raw_search(get_query(task_relevance['querytext']))\n",
    "        #if len(results) < 20:\n",
    "        #    print(\"WARNING LESS 20\")\n",
    "        sk = get_number_of_correct_out_of_k(results, task_relevance, 20)\n",
    "        pq += sk / 20\n",
    "        relevant_size = len(['vital' for value in task_relevance.values() if value == 'vital'])\n",
    "        rq += sk / relevant_size\n",
    "        prq += get_number_of_correct_out_of_k(results, task_relevance, relevant_size) / relevant_size\n",
    "        mapk = 0\n",
    "        for k in range(1, 21):\n",
    "            mapk += get_number_of_correct_out_of_k(results, task_relevance, k) / k\n",
    "        mapk /= 20\n",
    "        mapq += mapk\n",
    "    print(f\"p@20: {pq / Q}\")\n",
    "    print(f\"r@20: {rq / Q}\")\n",
    "    print(f\"p@R(q): {prq / Q}\")\n",
    "    print(f\"map@20(q): {mapq / Q}\")"
   ]
  },
  {
   "cell_type": "code",
   "execution_count": 146,
   "metadata": {},
   "outputs": [
    {
     "name": "stdout",
     "output_type": "stream",
     "text": [
      "p@20: 0.10676767676767672\n",
      "r@20: 0.05622144139351431\n",
      "p@R(q): 0.051398537025155414\n",
      "map@20(q): 0.19599825861958808\n"
     ]
    }
   ],
   "source": [
    "measure_performance()"
   ]
  },
  {
   "cell_type": "code",
   "execution_count": 147,
   "metadata": {},
   "outputs": [
    {
     "name": "stdout",
     "output_type": "stream",
     "text": [
      "Total documents: 0\n"
     ]
    },
    {
     "data": {
      "text/plain": [
       "[]"
      ]
     },
     "execution_count": 147,
     "metadata": {},
     "output_type": "execute_result"
    }
   ],
   "source": [
    "q = get_query('')\n",
    "search(q)\n",
    "raw_search(q)"
   ]
  },
  {
   "cell_type": "code",
   "execution_count": 149,
   "metadata": {},
   "outputs": [
    {
     "name": "stdout",
     "output_type": "stream",
     "text": [
      "Total documents: 5249\n",
      "Doc 60845, score is 10.263025\n",
      "url: http://pritchi.castle.by/ras-8-18.html\n",
      "Doc 251864, score is 10.064856\n",
      "url: http://rogdestvo.by/rus/biblia/_vetchij/07_sudie/sudie_14.php\n",
      "Doc 118785, score is 10.048823\n",
      "url: http://rebenok.by/community/forum/func,view/id,31167/catid,14/\n",
      "Doc 10042, score is 9.712582\n",
      "url: http://www.elfik.by/index.php?page=n_1176472568&art=1&storyid=45\n",
      "Doc 44112, score is 9.491875\n",
      "url: http://wow.tut.by/send/6381/\n",
      "Doc 61734, score is 9.490296\n",
      "url: http://pritchi.castle.by/ras-01-8.html\n"
     ]
    }
   ],
   "source": [
    "q = get_query('я пошел')\n",
    "search(q, 'url')"
   ]
  },
  {
   "cell_type": "code",
   "execution_count": null,
   "metadata": {},
   "outputs": [],
   "source": []
  }
 ],
 "metadata": {
  "kernelspec": {
   "display_name": "Python (ml_homeworks)",
   "language": "python",
   "name": "ml_homeworks"
  },
  "language_info": {
   "codemirror_mode": {
    "name": "ipython",
    "version": 3
   },
   "file_extension": ".py",
   "mimetype": "text/x-python",
   "name": "python",
   "nbconvert_exporter": "python",
   "pygments_lexer": "ipython3",
   "version": "3.6.0"
  }
 },
 "nbformat": 4,
 "nbformat_minor": 2
}

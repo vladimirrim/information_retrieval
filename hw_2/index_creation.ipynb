{
 "cells": [
  {
   "cell_type": "code",
   "execution_count": 1,
   "metadata": {},
   "outputs": [
    {
     "name": "stderr",
     "output_type": "stream",
     "text": [
      "/usr/lib/python3/dist-packages/requests/__init__.py:80: RequestsDependencyWarning: urllib3 (1.25.6) or chardet (3.0.4) doesn't match a supported version!\n",
      "  RequestsDependencyWarning)\n"
     ]
    }
   ],
   "source": [
    "%config IPCompleter.greedy=True\n",
    "import re\n",
    "import json\n",
    "from collections import defaultdict\n",
    "from tqdm import tqdm_notebook as tqdm\n",
    "from elasticsearch import Elasticsearch\n",
    "from elasticsearch.helpers import parallel_bulk\n",
    "from sklearn.feature_extraction.text import CountVectorizer\n",
    "import requests\n",
    "from time import time\n",
    "import time\n",
    "\n",
    "import base64\n",
    "import xmltodict"
   ]
  },
  {
   "cell_type": "code",
   "execution_count": 2,
   "metadata": {},
   "outputs": [],
   "source": [
    "es = Elasticsearch([{'host': 'localhost', 'port': 9200, 'timeout': 360, 'maxsize': 25}])"
   ]
  },
  {
   "cell_type": "markdown",
   "metadata": {},
   "source": [
    "# Index with Snowball"
   ]
  },
  {
   "cell_type": "code",
   "execution_count": 4,
   "metadata": {},
   "outputs": [
    {
     "data": {
      "text/plain": [
       "{'acknowledged': True, 'index': 'myandex', 'shards_acknowledged': True}"
      ]
     },
     "execution_count": 4,
     "metadata": {},
     "output_type": "execute_result"
    }
   ],
   "source": [
    "documents_by_id = {}\n",
    "es.indices.delete(index='myandex')\n",
    "es.indices.create(index='myandex')"
   ]
  },
  {
   "cell_type": "code",
   "execution_count": 5,
   "metadata": {},
   "outputs": [],
   "source": [
    "def processFile(i):\n",
    "    prefix = '../byweb_for_course/byweb.'\n",
    "    suffix = '.xml'\n",
    "    filename = prefix + str(i) + suffix\n",
    "    with open(filename, 'rb') as f:\n",
    "        decoded = f.read().decode('cp1251')\n",
    "        xmldict = xmltodict.parse(decoded)\n",
    "        for doc in tqdm(xmldict['romip:dataset']['document']):\n",
    "            try:\n",
    "                docID = doc['docID']\n",
    "                documents_by_id[docID] = {}\n",
    "                url = base64.b64decode(doc['docURL']).decode('cp1251')\n",
    "                content = base64.b64decode(doc['content']['#text']).decode('cp1251')\n",
    "                documents_by_id[docID]['url'] = url\n",
    "                documents_by_id[docID]['content'] = content\n",
    "            except Exception as e:\n",
    "                print(e)"
   ]
  },
  {
   "cell_type": "code",
   "execution_count": 6,
   "metadata": {},
   "outputs": [
    {
     "data": {
      "application/vnd.jupyter.widget-view+json": {
       "model_id": "fe32b2d1f4a34a8bb508d25865a39584"
      }
     },
     "metadata": {},
     "output_type": "display_data"
    },
    {
     "name": "stdout",
     "output_type": "stream",
     "text": [
      "\n"
     ]
    },
    {
     "data": {
      "application/vnd.jupyter.widget-view+json": {
       "model_id": "4e1202ad5bcb479884c0200eb89b2c77"
      }
     },
     "metadata": {},
     "output_type": "display_data"
    },
    {
     "name": "stdout",
     "output_type": "stream",
     "text": [
      "\n"
     ]
    },
    {
     "data": {
      "application/vnd.jupyter.widget-view+json": {
       "model_id": "13567e77008d4688a1ea5df068a4804d"
      }
     },
     "metadata": {},
     "output_type": "display_data"
    },
    {
     "name": "stdout",
     "output_type": "stream",
     "text": [
      "\n"
     ]
    },
    {
     "data": {
      "application/vnd.jupyter.widget-view+json": {
       "model_id": "685b88ccc97744b697ba2947abfc3c4f"
      }
     },
     "metadata": {},
     "output_type": "display_data"
    },
    {
     "name": "stdout",
     "output_type": "stream",
     "text": [
      "\n"
     ]
    },
    {
     "data": {
      "application/vnd.jupyter.widget-view+json": {
       "model_id": "de3eca863a324dab95b73e1456918135"
      }
     },
     "metadata": {},
     "output_type": "display_data"
    },
    {
     "name": "stdout",
     "output_type": "stream",
     "text": [
      "\n"
     ]
    },
    {
     "data": {
      "application/vnd.jupyter.widget-view+json": {
       "model_id": "e55814bacd034eccb88873983f1b0ed8"
      }
     },
     "metadata": {},
     "output_type": "display_data"
    },
    {
     "name": "stdout",
     "output_type": "stream",
     "text": [
      "\n"
     ]
    },
    {
     "data": {
      "application/vnd.jupyter.widget-view+json": {
       "model_id": "7cebafe64a124ab781e1baf2936a0e18"
      }
     },
     "metadata": {},
     "output_type": "display_data"
    },
    {
     "name": "stdout",
     "output_type": "stream",
     "text": [
      "\n"
     ]
    },
    {
     "data": {
      "application/vnd.jupyter.widget-view+json": {
       "model_id": "166c9f58d4334b33987b7c65c3155984"
      }
     },
     "metadata": {},
     "output_type": "display_data"
    },
    {
     "name": "stdout",
     "output_type": "stream",
     "text": [
      "\n"
     ]
    },
    {
     "data": {
      "application/vnd.jupyter.widget-view+json": {
       "model_id": "5a184d94dbbf441aac6d2ab6f508c313"
      }
     },
     "metadata": {},
     "output_type": "display_data"
    },
    {
     "name": "stdout",
     "output_type": "stream",
     "text": [
      "\n"
     ]
    },
    {
     "data": {
      "application/vnd.jupyter.widget-view+json": {
       "model_id": "7187f81094034baba681a1bf9428255b"
      }
     },
     "metadata": {},
     "output_type": "display_data"
    },
    {
     "name": "stdout",
     "output_type": "stream",
     "text": [
      "\n"
     ]
    }
   ],
   "source": [
    "for i in range(10):\n",
    "    processFile(i)"
   ]
  },
  {
   "cell_type": "code",
   "execution_count": 7,
   "metadata": {},
   "outputs": [],
   "source": [
    "settings_final = {\n",
    "    'mappings': {\n",
    "        'properties': {\n",
    "            'url': {\n",
    "                'type': 'text'\n",
    "            },\n",
    "            'content': {\n",
    "                'type': 'text',\n",
    "                \"analyzer\": \"my_custom_analyzer\"\n",
    "            }\n",
    "        }\n",
    "    },\n",
    "    \"settings\": {\n",
    "    \"analysis\": {\n",
    "      \"analyzer\": {\n",
    "        \"my_custom_analyzer\": {\n",
    "          \"type\":      \"custom\", \n",
    "          \"tokenizer\": \"standard\",\n",
    "          \"char_filter\": [\n",
    "            \"html_strip\",\n",
    "            \"yont\"\n",
    "          ],\n",
    "          \"filter\": [\n",
    "            \"lowercase\",\n",
    "            #\"asciifolding\",\n",
    "            \"russian_snow\",\n",
    "            \"english_snow\"\n",
    "          ]\n",
    "        }\n",
    "      },\n",
    "        'char_filter': {\n",
    "                'yont': {\n",
    "                    'type': 'mapping',\n",
    "                    'mappings': [\n",
    "                        'ё => е',\n",
    "                        'Ё => Е'\n",
    "                    ]\n",
    "                }\n",
    "            },\n",
    "    'filter': {\n",
    "            'stop_words': {\n",
    "                'type': 'stop',\n",
    "                'stopwords': [\n",
    "                ]\n",
    "            },\n",
    "            'russian_snow': {\n",
    "                'type': 'snowball',\n",
    "                'language': 'russian'\n",
    "            },\n",
    "            'english_snow': {\n",
    "                'type': 'snowball',\n",
    "                'language': 'english'\n",
    "            }\n",
    "     }\n",
    "    }\n",
    "  }\n",
    "}"
   ]
  },
  {
   "cell_type": "code",
   "execution_count": 8,
   "metadata": {},
   "outputs": [],
   "source": [
    "def recreate_index():\n",
    "    es.indices.delete(index='myandex')\n",
    "    es.indices.create(index='myandex', body=settings_final)"
   ]
  },
  {
   "cell_type": "code",
   "execution_count": 9,
   "metadata": {},
   "outputs": [],
   "source": [
    "recreate_index()"
   ]
  },
  {
   "cell_type": "code",
   "execution_count": 10,
   "metadata": {},
   "outputs": [],
   "source": [
    "def check_analyzer(analyzer, text):\n",
    "    body = analyzer\n",
    "    body['text'] = text\n",
    "    \n",
    "    tokens = es.indices.analyze(index='myandex', body=body)['tokens']\n",
    "    tokens = [token_info['token'] for token_info in tokens]\n",
    "    return tokens"
   ]
  },
  {
   "cell_type": "code",
   "execution_count": 11,
   "metadata": {},
   "outputs": [
    {
     "data": {
      "text/plain": [
       "['bla', 'bla', 'русск', 'countabl', 'текст', 'ешкин', 'кот']"
      ]
     },
     "execution_count": 11,
     "metadata": {},
     "output_type": "execute_result"
    }
   ],
   "source": [
    "analyzer = {\n",
    "    'analyzer': 'my_custom_analyzer'\n",
    "}\n",
    "\n",
    "check_analyzer(analyzer, '<meta http-equiv=\"Content-Type\" content=\"text/html; charset=windows-1251\"> bla bla русский countable текст Ёшкин кот')"
   ]
  },
  {
   "cell_type": "code",
   "execution_count": 12,
   "metadata": {},
   "outputs": [],
   "source": [
    "def create_es_action(index, doc_id, document):\n",
    "    return {\n",
    "        '_index': index,\n",
    "        '_id': doc_id,\n",
    "        '_source': document\n",
    "    }"
   ]
  },
  {
   "cell_type": "code",
   "execution_count": 13,
   "metadata": {},
   "outputs": [],
   "source": [
    "def es_actions_generator():\n",
    "    for doc_id, doc in tqdm(documents_by_id.items()):\n",
    "        yield create_es_action('myandex', doc_id, doc)"
   ]
  },
  {
   "cell_type": "code",
   "execution_count": 14,
   "metadata": {},
   "outputs": [
    {
     "data": {
      "application/vnd.jupyter.widget-view+json": {
       "model_id": "30f6cb77403a4a3999ead167bcf5c405"
      }
     },
     "metadata": {},
     "output_type": "display_data"
    },
    {
     "name": "stdout",
     "output_type": "stream",
     "text": [
      "\n",
      "Time on index creation: 00:04:56.12\n",
      "In seconds: 296.1822123527527\n"
     ]
    }
   ],
   "source": [
    "start = time.time()\n",
    "for ok, result in parallel_bulk(es, es_actions_generator(), queue_size=4, thread_count=4, chunk_size=1000):\n",
    "    if not ok:\n",
    "        print(result)\n",
    "end = time.time()\n",
    "print(f\"Time on index creation: {time.strftime('%H:%M:%S.%l', time.gmtime(end - start))}\")\n",
    "print(f\"In seconds: {end - start}\")"
   ]
  },
  {
   "cell_type": "code",
   "execution_count": 15,
   "metadata": {},
   "outputs": [],
   "source": [
    "def search(query, *args):\n",
    "    pretty_print_result(es.search(index='myandex', body=query, size=20), args)\n",
    "    # note that size set to 20 just because default value is 10 and we know that we have 12 docs and 10 < 12 < 20\n",
    "\n",
    "def raw_search(query):\n",
    "    search_result = es.search(index='myandex', body=query, size=20)['hits']\n",
    "    return [(hit['_id'], hit['_score']) for hit in search_result['hits']]\n",
    "    \n",
    "def pretty_print_result(search_result, fields=[]):\n",
    "    # fields is a list of fields names which we want to be printed\n",
    "    res = search_result['hits']\n",
    "    print(f'Total documents: {res[\"total\"][\"value\"]}')\n",
    "    for hit in res['hits'][:6]:\n",
    "        print(f'Doc {hit[\"_id\"]}, score is {hit[\"_score\"]}')\n",
    "        for field in fields:\n",
    "            print(f'{field}: {hit[\"_source\"][field]}')\n",
    "                  \n",
    "def get_doc_by_id(doc_id):\n",
    "    return es.get(index='myandex', id=doc_id)['_source']"
   ]
  },
  {
   "cell_type": "code",
   "execution_count": 16,
   "metadata": {},
   "outputs": [
    {
     "name": "stdout",
     "output_type": "stream",
     "text": [
      "Total documents: 0\n"
     ]
    },
    {
     "data": {
      "text/plain": [
       "[]"
      ]
     },
     "execution_count": 16,
     "metadata": {},
     "output_type": "execute_result"
    }
   ],
   "source": [
    "def get_query(query):\n",
    "    return {\n",
    "    'query': {\n",
    "        'bool': {\n",
    "            'should': {\n",
    "                'match': {\n",
    "                    'content': query\n",
    "                }\n",
    "            }\n",
    "        }\n",
    "    }\n",
    "    }\n",
    "\n",
    "q = get_query('<meta http-equiv=\"Content-Type\" content=\"text/html; charset=windows-1251\">')\n",
    "search(q)\n",
    "raw_search(q)"
   ]
  },
  {
   "cell_type": "code",
   "execution_count": 17,
   "metadata": {},
   "outputs": [],
   "source": [
    "def print_index_size(index): \n",
    "    print(f\"Size of index: {es.indices.stats(index)['_all']['primaries']['store']['size_in_bytes'] / 2 ** 30} GB\")"
   ]
  },
  {
   "cell_type": "code",
   "execution_count": 18,
   "metadata": {},
   "outputs": [
    {
     "name": "stdout",
     "output_type": "stream",
     "text": [
      "Size of index: 3.8551786467432976 GB\n"
     ]
    }
   ],
   "source": [
    "print_index_size('myandex')"
   ]
  },
  {
   "cell_type": "code",
   "execution_count": 19,
   "metadata": {},
   "outputs": [],
   "source": [
    "def load_queries_and_relevance():\n",
    "    relevance = defaultdict(dict)\n",
    "    filename = '../relevant_table_2009.xml'\n",
    "    with open(filename, 'rb') as f:\n",
    "        xmldict = xmltodict.parse(f.read())\n",
    "        for task in tqdm(xmldict['taskDocumentMatrix']['task']):\n",
    "            task_rel = {}\n",
    "            has_vital = False\n",
    "            for doc in task['document']:\n",
    "                if doc['@relevance'] == 'vital':\n",
    "                    has_vital = True\n",
    "                task_rel[doc['@id']] = doc['@relevance']\n",
    "            if has_vital:\n",
    "                relevance[task['@id']] = task_rel\n",
    "    filename = '../web2008_adhoc.xml'\n",
    "    with open(filename, 'rb') as f:\n",
    "        xmldict = xmltodict.parse(f.read())\n",
    "        for task in tqdm(xmldict['task-set']['task']):\n",
    "            if task['@id'] in relevance:\n",
    "                relevance[task['@id']]['querytext'] = task['querytext']\n",
    "    return relevance"
   ]
  },
  {
   "cell_type": "code",
   "execution_count": 20,
   "metadata": {},
   "outputs": [
    {
     "data": {
      "application/vnd.jupyter.widget-view+json": {
       "model_id": "65bf72a29a054616b410a6f626a5e98a"
      }
     },
     "metadata": {},
     "output_type": "display_data"
    },
    {
     "name": "stdout",
     "output_type": "stream",
     "text": [
      "\n"
     ]
    },
    {
     "data": {
      "application/vnd.jupyter.widget-view+json": {
       "model_id": "756aced65d094b9c968d1a3709ae8d36"
      }
     },
     "metadata": {},
     "output_type": "display_data"
    },
    {
     "name": "stdout",
     "output_type": "stream",
     "text": [
      "\n"
     ]
    }
   ],
   "source": [
    "relevance = load_queries_and_relevance()"
   ]
  },
  {
   "cell_type": "code",
   "execution_count": 23,
   "metadata": {},
   "outputs": [],
   "source": [
    "import numpy as np\n",
    "\n",
    "\n",
    "def get_number_of_correct_out_of_k(results, task_relevance, k):\n",
    "    return sum([1 if res[0] in task_relevance and task_relevance[res[0]] == 'vital' else 0 for res in results[:k]])\n",
    "\n",
    "def measure_performance():    \n",
    "    Q = len(relevance)\n",
    "    pq = 0\n",
    "    rq = 0\n",
    "    prq = 0\n",
    "    mapq = 0\n",
    "    tasks_prq = []\n",
    "    for task in relevance.keys():\n",
    "        sk = 0\n",
    "        task_relevance = relevance[task]\n",
    "        results = raw_search(get_query(task_relevance['querytext']))\n",
    "        #if len(results) < 20:\n",
    "        #    print(\"WARNING LESS 20\")\n",
    "        sk = get_number_of_correct_out_of_k(results, task_relevance, 20)\n",
    "        pq += sk / 20\n",
    "        relevant_size = len(['vital' for value in task_relevance.values() if value == 'vital'])\n",
    "        rq += sk / relevant_size\n",
    "        current_prq = get_number_of_correct_out_of_k(results, task_relevance, relevant_size) / relevant_size\n",
    "        prq += current_prq\n",
    "        tasks_prq.append(current_prq)\n",
    "        mapk = 0\n",
    "        for k in range(1, 21):\n",
    "            mapk += get_number_of_correct_out_of_k(results, task_relevance, k) / k\n",
    "        mapk /= 20\n",
    "        mapq += mapk\n",
    "    print(f\"p@20: {pq / Q}\")\n",
    "    print(f\"r@20: {rq / Q}\")\n",
    "    print(f\"p@R(q): {prq / Q}\")\n",
    "    print(f\"map@20(q): {mapq / Q}\")\n",
    "    \n",
    "    return np.array(tasks_prq)"
   ]
  },
  {
   "cell_type": "code",
   "execution_count": 24,
   "metadata": {},
   "outputs": [
    {
     "name": "stdout",
     "output_type": "stream",
     "text": [
      "p@20: 0.3839393939393943\n",
      "r@20: 0.251080754422327\n",
      "p@R(q): 0.21404717616325877\n",
      "map@20(q): 0.4353305444924268\n"
     ]
    }
   ],
   "source": [
    "tasks_prq = measure_performance()"
   ]
  },
  {
   "cell_type": "code",
   "execution_count": 25,
   "metadata": {},
   "outputs": [
    {
     "name": "stdout",
     "output_type": "stream",
     "text": [
      "Total documents: 0\n"
     ]
    },
    {
     "data": {
      "text/plain": [
       "[]"
      ]
     },
     "execution_count": 25,
     "metadata": {},
     "output_type": "execute_result"
    }
   ],
   "source": [
    "q = get_query('')\n",
    "search(q)\n",
    "raw_search(q)"
   ]
  },
  {
   "cell_type": "code",
   "execution_count": 26,
   "metadata": {},
   "outputs": [
    {
     "name": "stdout",
     "output_type": "stream",
     "text": [
      "Total documents: 10000\n",
      "Doc 772427, score is 11.434296\n",
      "url: http://wow.tut.by/send/9082/\n",
      "Doc 1285482, score is 11.06866\n",
      "url: http://www.bac.tut.by/index.php?tnt=0&tem=&ac=qwe1&id=31929\n",
      "Doc 1420091, score is 10.830326\n",
      "url: http://www.deti.by/lib/forkids/tales/slavic/russian-folk/two-in-bag.html\n",
      "Doc 60845, score is 10.64367\n",
      "url: http://pritchi.castle.by/ras-8-18.html\n",
      "Doc 500784, score is 10.526928\n",
      "url: http://www.sng.by/forum/index.php?showtopic=393\n",
      "Doc 251864, score is 10.456835\n",
      "url: http://rogdestvo.by/rus/biblia/_vetchij/07_sudie/sudie_14.php\n"
     ]
    }
   ],
   "source": [
    "q = get_query('я пошел')\n",
    "search(q, 'url')"
   ]
  },
  {
   "cell_type": "markdown",
   "metadata": {},
   "source": [
    "# Index without snowball"
   ]
  },
  {
   "cell_type": "code",
   "execution_count": 27,
   "metadata": {},
   "outputs": [
    {
     "data": {
      "text/plain": [
       "{'acknowledged': True, 'index': 'myandex_raw', 'shards_acknowledged': True}"
      ]
     },
     "execution_count": 27,
     "metadata": {},
     "output_type": "execute_result"
    }
   ],
   "source": [
    "#es.indices.delete(index='myandex_raw')\n",
    "es.indices.create(index='myandex_raw')"
   ]
  },
  {
   "cell_type": "code",
   "execution_count": 28,
   "metadata": {},
   "outputs": [],
   "source": [
    "settings_final_raw = {\n",
    "    'mappings': {\n",
    "        'properties': {\n",
    "            'url': {\n",
    "                'type': 'text'\n",
    "            },\n",
    "            'content': {\n",
    "                'type': 'text',\n",
    "                \"analyzer\": \"my_custom_analyzer\"\n",
    "            }\n",
    "        }\n",
    "    },\n",
    "    \"settings\": {\n",
    "    \"analysis\": {\n",
    "      \"analyzer\": {\n",
    "        \"my_custom_analyzer\": {\n",
    "          \"type\":      \"custom\", \n",
    "          \"tokenizer\": \"standard\",\n",
    "          \"char_filter\": [\n",
    "            \"html_strip\"\n",
    "          ],\n",
    "          \"filter\": [\n",
    "            \"lowercase\"\n",
    "          ]\n",
    "        }\n",
    "      },\n",
    "    'char_filter': {\n",
    "            },\n",
    "    'filter': {\n",
    "     }\n",
    "    }\n",
    "  }\n",
    "}"
   ]
  },
  {
   "cell_type": "code",
   "execution_count": 29,
   "metadata": {},
   "outputs": [],
   "source": [
    "def recreate_index_raw():\n",
    "    es.indices.delete(index='myandex_raw')\n",
    "    es.indices.create(index='myandex_raw', body=settings_final_raw)"
   ]
  },
  {
   "cell_type": "code",
   "execution_count": 30,
   "metadata": {},
   "outputs": [],
   "source": [
    "recreate_index_raw()"
   ]
  },
  {
   "cell_type": "code",
   "execution_count": 31,
   "metadata": {},
   "outputs": [],
   "source": [
    "def es_actions_generator_raw():\n",
    "    for doc_id, doc in tqdm(documents_by_id.items()):\n",
    "        yield create_es_action('myandex_raw', doc_id, doc)"
   ]
  },
  {
   "cell_type": "code",
   "execution_count": null,
   "metadata": {},
   "outputs": [
    {
     "data": {
      "application/vnd.jupyter.widget-view+json": {
       "model_id": "f8b2c1b7f61740b5a6c75cdf65da791e"
      }
     },
     "metadata": {},
     "output_type": "display_data"
    }
   ],
   "source": [
    "start = time.time()\n",
    "for ok, result in parallel_bulk(es, es_actions_generator_raw(), queue_size=4, thread_count=4, chunk_size=1000):\n",
    "    if not ok:\n",
    "        print(result)\n",
    "end = time.time()\n",
    "print(f\"Time on index creation: {time.strftime('%H:%M:%S.%l', time.gmtime(end - start))}\")\n",
    "print(f\"In seconds: {end - start}\")"
   ]
  },
  {
   "cell_type": "code",
   "execution_count": 42,
   "metadata": {},
   "outputs": [],
   "source": [
    "def search(query, *args):\n",
    "    pretty_print_result(es.search(index='myandex_raw', body=query, size=20), args)\n",
    "    # note that size set to 20 just because default value is 10 and we know that we have 12 docs and 10 < 12 < 20\n",
    "\n",
    "def raw_search(query):\n",
    "    search_result = es.search(index='myandex_raw', body=query, size=20)['hits']\n",
    "    return [(hit['_id'], hit['_score']) for hit in search_result['hits']]"
   ]
  },
  {
   "cell_type": "code",
   "execution_count": 34,
   "metadata": {},
   "outputs": [
    {
     "name": "stdout",
     "output_type": "stream",
     "text": [
      "Size of index: 4.733313490636647 GB\n"
     ]
    }
   ],
   "source": [
    "print_index_size('myandex_raw')"
   ]
  },
  {
   "cell_type": "code",
   "execution_count": 35,
   "metadata": {},
   "outputs": [],
   "source": [
    "def load_queries_and_relevance_raw():\n",
    "    relevance = defaultdict(dict)\n",
    "    filename = '../relevant_table_2009.xml'\n",
    "    with open(filename, 'rb') as f:\n",
    "        xmldict = xmltodict.parse(f.read())\n",
    "        for task in tqdm(xmldict['taskDocumentMatrix']['task']):\n",
    "            task_rel = {}\n",
    "            has_vital = False\n",
    "            for doc in task['document']:\n",
    "                if doc['@relevance'] == 'vital':\n",
    "                    has_vital = True\n",
    "                task_rel[doc['@id']] = doc['@relevance']\n",
    "            if has_vital:\n",
    "                relevance[task['@id']] = task_rel\n",
    "    filename = '../web2008_adhoc.xml'\n",
    "    with open(filename, 'rb') as f:\n",
    "        xmldict = xmltodict.parse(f.read())\n",
    "        for task in tqdm(xmldict['task-set']['task']):\n",
    "            if task['@id'] in relevance:\n",
    "                relevance[task['@id']]['querytext'] = task['querytext']\n",
    "    return relevance"
   ]
  },
  {
   "cell_type": "code",
   "execution_count": 36,
   "metadata": {},
   "outputs": [
    {
     "data": {
      "application/vnd.jupyter.widget-view+json": {
       "model_id": "e68632ee5ea2405ea4a7996d16349b7f"
      }
     },
     "metadata": {},
     "output_type": "display_data"
    },
    {
     "name": "stdout",
     "output_type": "stream",
     "text": [
      "\n"
     ]
    },
    {
     "data": {
      "application/vnd.jupyter.widget-view+json": {
       "model_id": "e952803924d74340b55823b1360ce8b3"
      }
     },
     "metadata": {},
     "output_type": "display_data"
    },
    {
     "name": "stdout",
     "output_type": "stream",
     "text": [
      "\n"
     ]
    }
   ],
   "source": [
    "relevance = load_queries_and_relevance_raw()"
   ]
  },
  {
   "cell_type": "code",
   "execution_count": 43,
   "metadata": {},
   "outputs": [
    {
     "name": "stdout",
     "output_type": "stream",
     "text": [
      "p@20: 0.3348484848484848\n",
      "r@20: 0.21605664427146334\n",
      "p@R(q): 0.18301908439672362\n",
      "map@20(q): 0.39893436948606287\n"
     ]
    }
   ],
   "source": [
    "tasks_prq_raw = measure_performance()"
   ]
  },
  {
   "cell_type": "markdown",
   "metadata": {},
   "source": [
    "# Comparing snowball and raw"
   ]
  },
  {
   "cell_type": "code",
   "execution_count": 45,
   "metadata": {},
   "outputs": [
    {
     "name": "stdout",
     "output_type": "stream",
     "text": [
      "Query: в контакте. p@R(q) with snowball index: 0.000000. p@R(q) with raw index: 0.500000.\n",
      "Query: Риэлт Дудаево. p@R(q) with snowball index: 0.000000. p@R(q) with raw index: 0.500000.\n",
      "Query: УРАЛЬСКАЯ ПЛИТКА. p@R(q) with snowball index: 1.000000. p@R(q) with raw index: 0.055556.\n",
      "Query: контакт. p@R(q) with snowball index: 1.000000. p@R(q) with raw index: 0.000000.\n",
      "Query: Стоматология донецк. p@R(q) with snowball index: 1.000000. p@R(q) with raw index: 0.000000.\n"
     ]
    }
   ],
   "source": [
    "diffs_cnt = 5\n",
    "prq_diffs = np.abs(tasks_prq - tasks_prq_raw)\n",
    "sorted_idx = np.argsort(prq_diffs)\n",
    "relevance_keys = relevance.keys()\n",
    "\n",
    "for i in sorted_idx[-diffs_cnt::]:\n",
    "    task_relevance = relevance[list(relevance_keys)[i]]\n",
    "    query = task_relevance['querytext']\n",
    "    print('Query: %s. p@R(q) with snowball index: %f. p@R(q) with raw index: %f.'\n",
    "          % (query, tasks_prq[i], tasks_prq_raw[i]))"
   ]
  },
  {
   "cell_type": "code",
   "execution_count": null,
   "metadata": {},
   "outputs": [],
   "source": []
  }
 ],
 "metadata": {
  "kernelspec": {
   "display_name": "Python 3",
   "language": "python",
   "name": "python3"
  },
  "language_info": {
   "codemirror_mode": {
    "name": "ipython",
    "version": 3
   },
   "file_extension": ".py",
   "mimetype": "text/x-python",
   "name": "python",
   "nbconvert_exporter": "python",
   "pygments_lexer": "ipython3",
   "version": "3.6.8"
  }
 },
 "nbformat": 4,
 "nbformat_minor": 2
}
